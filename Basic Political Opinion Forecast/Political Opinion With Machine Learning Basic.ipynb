{
  "cells": [
    {
      "metadata": {
        "_cell_guid": "7fd7ced7-b952-49f2-b7c0-47c18e556ce7",
        "_uuid": "d8c2b8382f631eaecfc47fdda8d5e1c206091723"
      },
      "cell_type": "markdown",
      "source": "# Political Opinions with Machine Learning"
    },
    {
      "metadata": {
        "_cell_guid": "44727290-3ee7-4d96-93e5-fe3dd79bbdc9",
        "_uuid": "27a564f2177467eabfdf7cdfa113973e68fa4804"
      },
      "cell_type": "markdown",
      "source": "## Introduction\n\nIn this notebook we will ask the machine to predict political views by describing the political orientations of the people with machine learning.\n\n** Yunus Emre Gündoğmuş - May 2018 **\n\nDetailed Project : [Political Opinion with Machine Learning](https://www.kaggle.com/yemregundogmus/political-opinion-with-machine-learning)"
    },
    {
      "metadata": {
        "_cell_guid": "3fd2b96e-cb19-4275-a696-09dd869472fe",
        "_uuid": "5b5000d280c7e9fdaf53f850316229b14b5027a7"
      },
      "cell_type": "markdown",
      "source": "## Contents\n\n1 - Data Information \n\n2 - Import Data and Libraries\n\n3 - Data Visualition Phase \n\n4 - Cleaning Data\n\n5 - Choosing the Best Model \n\n6 - Source"
    },
    {
      "metadata": {
        "_cell_guid": "67f24797-7a8f-497f-abd5-3901b5376a74",
        "_uuid": "1ff7a37bfc4bd7318630ca612504e906a39455a0"
      },
      "cell_type": "markdown",
      "source": "## 1- Data Information\n\n* Let's see Features : \n\n\n* Cinsiyet : Sex Feature\n* Yas : Age Feature\n* Bolge : Areas inhabited in Turkey\n* Egitim : Education Level \n* (Soru = Question) (Questions include Turkey)\n* Soru1/Question1: Do you think our Economic Status is good?\n* Soru2/Question2: Need Reform in Education?\n* Soru3/Question3: Resolve Privatization Are You?\n* Soru4/Question4: Should the state use a penalty like death penalty for certain crimes?\n* Soru5/Question5: Do you find our journalists neutral enough?\n* Soru6/Question6: From 22:00 am Then Are You Supporting the Prohibition to Buy Drinks?\n* Soru7/Question7: Do You Want to Live in a Secular State?\n* Soru8/Question8: Are you supporting the abortion ban?\n* Soru9/Question9: Do you think that the extraordinary state (Ohal) restricts Freedoms?\n* Soru10/Question10: Would you like a new part of the parliament to enter?\n* Parti : Political View\n"
    },
    {
      "metadata": {
        "_cell_guid": "491fe846-dae0-441c-828d-4f613288f7de",
        "_uuid": "228d2e831006ccd750f87d84cb5ea55fba356962"
      },
      "cell_type": "markdown",
      "source": "* Data Review : \n\n\n* Evet = Yes \n* Hayır = No \n* Erkek = Male \n* Kadın = Female\n* Yas = Age\n* Bolge = City \n* Egitim = Education \n* İlkokul = primary school\n* OrtaOkul = junior high school\n* Lise = High School\n* Lisans = University\n* Lisans Üstü = MA"
    },
    {
      "metadata": {
        "_cell_guid": "0d231409-4d46-4e2e-8dd9-1596015acaa4",
        "_uuid": "00bb5400e1590c95d8d0aa7706a6b969fa622274"
      },
      "cell_type": "markdown",
      "source": "## 2- Import Data And Libraries"
    },
    {
      "metadata": {
        "_cell_guid": "c43fff47-dc16-4457-b3d5-2a7accf4f5b2",
        "_uuid": "e9925eddf810200425d615aac1adf07c8994ae3a"
      },
      "cell_type": "markdown",
      "source": ""
    },
    {
      "metadata": {
        "collapsed": true,
        "_cell_guid": "b1076dfc-b9ad-4769-8c92-a6c4dae69d19",
        "_uuid": "8f2839f25d086af736a60e9eeb907d3b93b6e0e5",
        "trusted": false
      },
      "cell_type": "code",
      "source": "import pandas as pd\nimport numpy as np\nimport matplotlib.pyplot as plt\nimport seaborn as sns\n%matplotlib inline",
      "execution_count": null,
      "outputs": []
    },
    {
      "metadata": {
        "collapsed": true,
        "_cell_guid": "79c7e3d0-c299-4dcb-8224-4455121ee9b0",
        "_uuid": "d629ff2d2480ee46fbb7e2d37f6b5fab8052498a",
        "trusted": false
      },
      "cell_type": "code",
      "source": "data = pd.read_csv('../input/data.csv')",
      "execution_count": null,
      "outputs": []
    },
    {
      "metadata": {
        "_cell_guid": "908891ca-a055-4fec-a758-b62c276c48a3",
        "_uuid": "568fc8df78fae8497197dcf4e4c37dac23d9e237",
        "trusted": false,
        "collapsed": true
      },
      "cell_type": "code",
      "source": "data.head()",
      "execution_count": null,
      "outputs": []
    },
    {
      "metadata": {
        "_cell_guid": "9950cd33-6252-4458-8c87-894eb8573d7b",
        "_uuid": "0e32d873114369e41c2896f6d8063cbada354b23",
        "trusted": false,
        "collapsed": true
      },
      "cell_type": "code",
      "source": "data.info()",
      "execution_count": null,
      "outputs": []
    },
    {
      "metadata": {
        "_cell_guid": "bf8feaef-54e2-45bb-9df6-8dea20dc15c5",
        "_uuid": "61f99683dbec89576995552e9b25435ce582eae2",
        "trusted": false,
        "collapsed": true
      },
      "cell_type": "code",
      "source": "data.describe()",
      "execution_count": null,
      "outputs": []
    },
    {
      "metadata": {
        "_cell_guid": "cafa0e49-e983-4443-97fb-9f7d9f788a24",
        "_uuid": "fd4c6448d1ec0e6d390551f89e17d24ae480dabf"
      },
      "cell_type": "markdown",
      "source": "## 3- Data Visualition Phase"
    },
    {
      "metadata": {
        "_cell_guid": "ccae0d38-10e7-40e2-bbdd-3f269dd2f418",
        "_uuid": "efc81fb0b12dfb0972612ce00d14fda8baf31ff6",
        "trusted": false,
        "collapsed": true
      },
      "cell_type": "code",
      "source": "fig = plt.figure(figsize=(5,5))\ndata['Cinsiyet'].value_counts().plot(kind = 'pie', autopct='%.1f%%')\nplt.ylabel(\" \", fontsize = 15)\nplt.title(\"Gender Distribution for the Sample\")\nprint(\"\")",
      "execution_count": null,
      "outputs": []
    },
    {
      "metadata": {
        "_cell_guid": "4369d41c-6d3f-40eb-a817-4d57a6e2b996",
        "_uuid": "d4e2737f5443b483fa8b5d545ca6f28eaf6a6404",
        "trusted": false,
        "collapsed": true
      },
      "cell_type": "code",
      "source": "fig = plt.figure(figsize=(5,5))\ndata['Yas'].value_counts().plot(kind = 'pie', autopct='%.1f%%')\nplt.ylabel(\" \", fontsize = 15)\nplt.title(\"Age Distribution for the Sample\")\nprint(\"\")",
      "execution_count": null,
      "outputs": []
    },
    {
      "metadata": {
        "_cell_guid": "73cb4337-f5d9-4393-84f7-74bc55101c3e",
        "_uuid": "4a0e86b1d4762c7a97529a948f669b8142a5e92c",
        "trusted": false,
        "collapsed": true
      },
      "cell_type": "code",
      "source": "fig = plt.figure(figsize=(5,5))\ndata['Bolge'].value_counts().plot(kind = 'pie', autopct='%.1f%%')\nplt.ylabel(\" \", fontsize = 15)\nplt.title(\"Örneklem için Yaş Dağılımı\")\nprint(\"\")",
      "execution_count": null,
      "outputs": []
    },
    {
      "metadata": {
        "_cell_guid": "7aedebc4-d20a-4e76-902a-4143a4b24097",
        "_uuid": "2b1950787227d1206fd084f66fc725451efb20ff",
        "trusted": false,
        "collapsed": true
      },
      "cell_type": "code",
      "source": "fig = plt.figure(figsize=(5,5))\ndata['parti'].value_counts().plot(kind = 'pie', autopct='%.1f%%')\nplt.ylabel(\" \", fontsize = 15)\nplt.title(\"Political opinion distribution for the sample\")\nprint(\"\")",
      "execution_count": null,
      "outputs": []
    },
    {
      "metadata": {
        "_cell_guid": "7dc76af4-0309-4112-a08d-37cc1f700b64",
        "_uuid": "f9c6f46865c87440b0d29174d8dae8e9ded24065",
        "trusted": false,
        "collapsed": true
      },
      "cell_type": "code",
      "source": "fig = plt.figure(figsize=(30,30))\np1 = fig.add_subplot(4,4,1)\ndata['soru1'].value_counts().plot(kind = 'pie', autopct='%.1f%%')\nplt.ylabel(\" \", fontsize = 15)\nplt.title(\"Do you think our Economic Status is good?\")\nplt.grid()\np2 = fig.add_subplot(4,4,2)\ndata['soru2'].value_counts().plot(kind = 'pie', autopct='%.1f%%')\nplt.title(\"Need Reform in Education?\")\nplt.ylabel(\" \", fontsize = 15)\nplt.grid()\np3 = fig.add_subplot(4,4,3)\ndata['soru3'].value_counts().plot(kind = 'pie', autopct='%.1f%%')\nplt.title(\"Resolve Privatization Are You?\")\nplt.ylabel(\" \", fontsize = 15)\nplt.grid()\np4 = fig.add_subplot(4,4,4)\ndata['soru4'].value_counts().plot(kind = 'pie', autopct='%.1f%%')\nplt.ylabel(\" \", fontsize = 15)\nplt.title(\"Should the state use a death penalty for certain crimes?\")\np5 = fig.add_subplot(4,4,5)\ndata['soru5'].value_counts().plot(kind = 'pie', autopct='%.1f%%')\nplt.ylabel(\" \", fontsize = 15)\nplt.title(\"Do you find our journalists neutral enough?\")\nplt.grid()\np6 = fig.add_subplot(4,4,6)\ndata['soru6'].value_counts().plot(kind = 'pie', autopct='%.1f%%')\nplt.title(\"From 22:00 am Then Are You Supporting the Prohibition to Buy Drinks?\")\nplt.ylabel(\" \", fontsize = 15)\nplt.grid()\np7 = fig.add_subplot(4,4,7)\ndata['soru7'].value_counts().plot(kind = 'pie', autopct='%.1f%%')\nplt.title(\"Do You Want to Live in a Secular State?\")\nplt.ylabel(\" \", fontsize = 15)\nplt.grid()\np8 = fig.add_subplot(4,4,8)\ndata['soru8'].value_counts().plot(kind = 'pie', autopct='%.1f%%')\nplt.ylabel(\" \", fontsize = 15)\nplt.title(\"Are you supporting the abortion ban?\")\np9 = fig.add_subplot(4,4,9)\ndata['soru9'].value_counts().plot(kind = 'pie', autopct='%.1f%%')\nplt.title(\"Do you think that the extraordinary state restricts Freedoms?\")\nplt.ylabel(\" \", fontsize = 15)\nplt.grid()\np10 = fig.add_subplot(4,4,10)\ndata['soru10'].value_counts().plot(kind = 'pie', autopct='%.1f%%')\nplt.ylabel(\" \", fontsize = 15)\nplt.title(\"Would you like a new part of the parliament to enter?\")\nprint(\" \")",
      "execution_count": null,
      "outputs": []
    },
    {
      "metadata": {
        "_cell_guid": "c31325a4-d2f8-4e62-b996-404daf898f59",
        "_uuid": "dffdf8326dde473a2062e3c5e8f1029ce0b95f8a"
      },
      "cell_type": "markdown",
      "source": "## 4- Cleaning Data"
    },
    {
      "metadata": {
        "_cell_guid": "82c89a0b-4bfc-4e14-9599-2706e884493f",
        "_uuid": "c1253a6f47811189adfd24003a5e3d2f49fe031d"
      },
      "cell_type": "markdown",
      "source": "**  First We Need Drop Some Axis, Like TimeStamp **"
    },
    {
      "metadata": {
        "_cell_guid": "51601fda-1be2-4d42-af25-6cd2e0d92ab9",
        "_uuid": "71fb739030ae50ab87e64544fbcb457603fbf481",
        "trusted": false,
        "collapsed": true
      },
      "cell_type": "code",
      "source": "data = data.drop(['Timestamp'], axis = 1)\ndata.head()",
      "execution_count": null,
      "outputs": []
    },
    {
      "metadata": {
        "_cell_guid": "46f56d16-b866-4dca-8f89-ec0bc2092b7a",
        "_uuid": "601985a28ebb31238d2e810cc24a2b61515e2491"
      },
      "cell_type": "markdown",
      "source": "**  Second We Mapping The Features Data **"
    },
    {
      "metadata": {
        "_cell_guid": "60038c24-3382-4f71-a282-6c5205fb20bc",
        "_uuid": "3401884c496d4af2ee1fc857e05e4b9d7f6b0389",
        "trusted": false,
        "collapsed": true
      },
      "cell_type": "code",
      "source": "combine = [data]\nage_mapping = {\"0-18\": 1, \"18-30\": 2, \"30-50\": 3, \"50-60\": 4, \"60+\": 5}\nfor dataset in combine:\n    dataset['Yas'] = dataset['Yas'].map(age_mapping)\n    dataset['Yas'] = dataset['Yas'].fillna(0)\n\ndata.head()",
      "execution_count": null,
      "outputs": []
    },
    {
      "metadata": {
        "_cell_guid": "eb63b6ea-bbe5-48a1-bda4-762a8070524b",
        "_uuid": "96f94d9d75cc271b5b469981ed4058ada1e3bd2b",
        "trusted": false,
        "collapsed": true
      },
      "cell_type": "code",
      "source": "sex_mapping = {\"Erkek\": 0, \"Kadın\": 1}\ndata['Cinsiyet'] = data['Cinsiyet'].map(sex_mapping)\n\ndata.head()",
      "execution_count": null,
      "outputs": []
    },
    {
      "metadata": {
        "_cell_guid": "c27e70ff-53db-4961-b6d6-67ef8c7dd6b9",
        "_uuid": "e6a237aa8be283224627f895d21a6f65f1c8e75d",
        "trusted": false,
        "collapsed": true
      },
      "cell_type": "code",
      "source": "combine = [data]\ncity_mapping = {\"Marmara\": 1, \"Ege\": 2, \"Karadeniz\": 3, \"Akdeniz\": 4, \"İç Anadolu\": 5, \"Doğu Anadolu\": 6, \"Güneydoğu\": 7}\nfor dataset in combine:\n    dataset['Bolge'] = dataset['Bolge'].map(city_mapping)\n    dataset['Bolge'] = dataset['Bolge'].fillna(0)\n\ndata.head()",
      "execution_count": null,
      "outputs": []
    },
    {
      "metadata": {
        "_cell_guid": "a99a33f6-3983-4db7-a075-edad62fa1fa1",
        "_uuid": "a8afc6c7365fc3da434677488d79679ac50da33a",
        "trusted": false,
        "collapsed": true
      },
      "cell_type": "code",
      "source": "combine = [data]\neducation_mapping = {\"İlkokul\": 1, \"Ortaokul\": 2, \"Lise\": 3, \"Ön Lisans\": 4, \"Lisans\": 5, \"Lisans Üstü\": 6}\nfor dataset in combine:\n    dataset['Egitim'] = dataset['Egitim'].map(education_mapping)\n    dataset['Egitim'] = dataset['Egitim'].fillna(0)\n\ndata.head()",
      "execution_count": null,
      "outputs": []
    },
    {
      "metadata": {
        "_cell_guid": "280a6e9b-1f6a-4602-9cad-b2e85c3e25a4",
        "_uuid": "80d19dc2b1e04f252ae414fcf76d6a0ea99cc54a",
        "trusted": false,
        "collapsed": true
      },
      "cell_type": "code",
      "source": "question_mapping = {\"Evet\": 1, \"Hayır\": 0}\ndata['soru1'] = data['soru1'].map(question_mapping)\ndata['soru2'] = data['soru2'].map(question_mapping)\ndata['soru3'] = data['soru3'].map(question_mapping)\ndata['soru4'] = data['soru4'].map(question_mapping)\ndata['soru5'] = data['soru5'].map(question_mapping)\ndata['soru6'] = data['soru6'].map(question_mapping)\ndata['soru7'] = data['soru7'].map(question_mapping)\ndata['soru8'] = data['soru8'].map(question_mapping)\ndata['soru9'] = data['soru9'].map(question_mapping)\ndata['soru10'] = data['soru10'].map(question_mapping)\n\ndata.head()",
      "execution_count": null,
      "outputs": []
    },
    {
      "metadata": {
        "_cell_guid": "646712e7-7bd2-411e-8ec2-1a1df85261ab",
        "_uuid": "0493c69e26f2ffcb099cb22deb0474e9c9d9cadb",
        "trusted": false,
        "collapsed": true
      },
      "cell_type": "code",
      "source": "combine = [data]\nopinion_mapping = {\"AKP\": 1, \"CHP\": 2, \"IYI PARTI\": 3, \"MHP\": 4, \"HDP\": 5, \"DIĞER\": 6}\nfor dataset in combine:\n    dataset['parti'] = dataset['parti'].map(opinion_mapping)\n    dataset['parti'] = dataset['parti'].fillna(0)\n\ndata.head()",
      "execution_count": null,
      "outputs": []
    },
    {
      "metadata": {
        "_cell_guid": "605fe8df-fd38-4a1a-9e74-11890e3f6027",
        "_uuid": "b2c7a972d7766462984bd0b078a74e1b120221b2"
      },
      "cell_type": "markdown",
      "source": "** Now We Have Clean Data We Need To Look Correlation For Get Best Model **"
    },
    {
      "metadata": {
        "_cell_guid": "3c7c0e31-5893-49a9-8459-e4b24c1e8ef3",
        "_uuid": "86e0edf725e40425c172eee67a150cb5e0bf0f0b",
        "trusted": false,
        "collapsed": true
      },
      "cell_type": "code",
      "source": "k = 10 #number of variables for heatmap\ncorrmat = data.corr()\ncols = corrmat.nlargest(k, 'parti')['parti'].index\nf, ax = plt.subplots(figsize=(15, 10))\ncm = np.corrcoef(data[cols].values.T)\nsns.set(font_scale=1.25)\nhm = sns.heatmap(cm, cbar=True, annot=True, square=True, fmt='.2f', \n                 annot_kws={'size': 10}, yticklabels=cols.values, xticklabels=cols.values)\nplt.show()",
      "execution_count": null,
      "outputs": []
    },
    {
      "metadata": {
        "_cell_guid": "f8f4568c-9983-4c07-a3c3-8c48de49ffdb",
        "_uuid": "57b5811d5fcfce8d428276cb9c471389d3edba57"
      },
      "cell_type": "markdown",
      "source": "** We dont have great corelations but I wont drop no more feature's I think the machine will make more use of the questions when making the forecast. **"
    },
    {
      "metadata": {
        "_cell_guid": "bce0ad60-17af-4a67-91ae-506c3d23b806",
        "_uuid": "c96b85a0d4455e24d1d5571952727eb7cb26ac4b"
      },
      "cell_type": "markdown",
      "source": "## 5 - Choosing The Best Model"
    },
    {
      "metadata": {
        "_cell_guid": "5af419ad-9a18-4972-8e42-8d7bb133c188",
        "_uuid": "d9d3d1a536670d1d21cbcad5a45e8edd305cb0f7"
      },
      "cell_type": "markdown",
      "source": " My Predict Feature is** \"Parti\"** "
    },
    {
      "metadata": {
        "collapsed": true,
        "_cell_guid": "d48e26cf-8e1d-45f4-b720-570a2b1e16c1",
        "_uuid": "8b08dab94de9bf81dfe14a16dd74e153d2996e22",
        "trusted": false
      },
      "cell_type": "code",
      "source": "from sklearn.model_selection import train_test_split\n\npredictors = data.drop(['parti'], axis=1)\ntarget = data[\"parti\"]\nx_train, x_val, y_train, y_val = train_test_split(predictors, target, test_size = 0.04, random_state = 0)",
      "execution_count": null,
      "outputs": []
    },
    {
      "metadata": {
        "_cell_guid": "5a85f74e-f69d-4ff9-948a-2d5874e85c91",
        "_uuid": "071ba87955bea2a55df0631ba02eb4b05936da59"
      },
      "cell_type": "markdown",
      "source": "We use we will use ;\n-  Random Forest\n-  Decision Tree\n-  KNeighbors \n- SVC \n- Logistic Regression\t\n\nwhich are known models. The reason for selecting these models is that the data is in the form of 1-0 Yes-NO "
    },
    {
      "metadata": {
        "_cell_guid": "b2723366-4552-4ecb-b73f-3d5ac3530e3b",
        "_uuid": "1b484332a9f4c22d3b2d393cbe04e8d51d2d359b",
        "trusted": false,
        "collapsed": true
      },
      "cell_type": "code",
      "source": "from sklearn.metrics import accuracy_score\nfrom sklearn.tree import DecisionTreeClassifier\n\ndecisiontree = DecisionTreeClassifier()\ndecisiontree.fit(x_train, y_train)\ny_pred = decisiontree.predict(x_val)\nacc_decisiontree = round(accuracy_score(y_pred, y_val) * 100, 2)\nprint(acc_decisiontree)",
      "execution_count": null,
      "outputs": []
    },
    {
      "metadata": {
        "_cell_guid": "c4f51186-b3b6-4551-a7db-68ae58fcff45",
        "_uuid": "e9075c9a03edc0934eb51a9db5fd36b03a1434a3",
        "trusted": false,
        "collapsed": true
      },
      "cell_type": "code",
      "source": "from sklearn.ensemble import RandomForestClassifier\n\nrandomforest = RandomForestClassifier()\nrandomforest.fit(x_train, y_train)\ny_pred = randomforest.predict(x_val)\nacc_randomforest = round(accuracy_score(y_pred, y_val) * 100, 2)\nprint(acc_randomforest)",
      "execution_count": null,
      "outputs": []
    },
    {
      "metadata": {
        "_cell_guid": "ec38d5dd-0a26-4aad-baa2-19ce96de520f",
        "_uuid": "27680cbdb73b01764ced5ca89ddd8cd639df97cc",
        "trusted": false,
        "collapsed": true
      },
      "cell_type": "code",
      "source": "from sklearn.svm import SVC\n\nsvm = SVC()\nsvm.fit(x_train, y_train)\ny_pred = svm.predict(x_val)\nacc_svm = round(accuracy_score(y_pred, y_val) * 100, 2)\nprint(acc_svm)",
      "execution_count": null,
      "outputs": []
    },
    {
      "metadata": {
        "_cell_guid": "c2ce74dc-d8f2-4515-873b-98a5fc07a97e",
        "_uuid": "06fd80fc692b1693b49c6d12a223701d0c5725e2",
        "trusted": false,
        "collapsed": true
      },
      "cell_type": "code",
      "source": "from sklearn.neighbors import KNeighborsClassifier\n\nknn = KNeighborsClassifier()\nknn.fit(x_train, y_train)\ny_pred = knn.predict(x_val)\nacc_knn = round(accuracy_score(y_pred, y_val) * 100, 2)\nprint(acc_knn)",
      "execution_count": null,
      "outputs": []
    },
    {
      "metadata": {
        "_cell_guid": "4c0243bd-04e0-4d27-bc06-0f6720a36aed",
        "_uuid": "4d1b986c5d47d2b25a5b9d9a9b5796c425201e0b",
        "trusted": false,
        "collapsed": true
      },
      "cell_type": "code",
      "source": "from sklearn.linear_model import LogisticRegression\n\nlogreg = LogisticRegression()\nlogreg.fit(x_train, y_train)\ny_pred = logreg.predict(x_val)\nacc_logreg = round(accuracy_score(y_pred, y_val) * 100, 2)\nprint(acc_logreg)",
      "execution_count": null,
      "outputs": []
    },
    {
      "metadata": {
        "_cell_guid": "2e701abf-d483-4e3c-9a8c-6a5d4cc4bb3e",
        "_uuid": "896c66ab0a2d437443ddb7206006c0216de18288",
        "trusted": false,
        "collapsed": true
      },
      "cell_type": "code",
      "source": "models = pd.DataFrame({\n    'Model': ['SVC', \n              'Random Forest', 'KNeighbors', \n              'Decision Tree', 'Logistic Regression'],\n    'Score': [ acc_svm, \n              acc_randomforest, acc_knn, acc_decisiontree, acc_logreg\n             ]})\nmodels.sort_values(by='Score', ascending=False)",
      "execution_count": null,
      "outputs": []
    },
    {
      "metadata": {
        "_cell_guid": "085149e8-ad90-49a6-aee2-866fd1a39989",
        "_uuid": "be6773c804a8ca3e48befc419c0df86a6c2f9624"
      },
      "cell_type": "markdown",
      "source": "## 6 - Source\n\n* [Uzay00's KaVe Repository](https://github.com/uzay00/KaVe)"
    }
  ],
  "metadata": {
    "kernelspec": {
      "display_name": "Python 3",
      "language": "python",
      "name": "python3"
    },
    "language_info": {
      "name": "python",
      "version": "3.6.5",
      "mimetype": "text/x-python",
      "codemirror_mode": {
        "name": "ipython",
        "version": 3
      },
      "pygments_lexer": "ipython3",
      "nbconvert_exporter": "python",
      "file_extension": ".py"
    }
  },
  "nbformat": 4,
  "nbformat_minor": 1
}