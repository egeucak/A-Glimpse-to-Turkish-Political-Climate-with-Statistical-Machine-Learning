{
 "cells": [
  {
   "cell_type": "markdown",
   "metadata": {
    "_cell_guid": "7fd7ced7-b952-49f2-b7c0-47c18e556ce7",
    "_uuid": "d8c2b8382f631eaecfc47fdda8d5e1c206091723"
   },
   "source": [
    "# Political Opinions with Machine Learning"
   ]
  },
  {
   "cell_type": "markdown",
   "metadata": {
    "_cell_guid": "44727290-3ee7-4d96-93e5-fe3dd79bbdc9",
    "_uuid": "27a564f2177467eabfdf7cdfa113973e68fa4804"
   },
   "source": [
    "## Introduction\n",
    "\n",
    "In this notebook we will ask the machine to predict political views by describing the political orientations of the people with machine learning.\n",
    "\n",
    "** Yunus Emre Gündoğmuş - May 2018 **\n",
    "\n",
    "Detailed Project : [Political Opinion with Machine Learning](https://www.kaggle.com/yemregundogmus/political-opinion-with-machine-learning)"
   ]
  },
  {
   "cell_type": "markdown",
   "metadata": {
    "_cell_guid": "3fd2b96e-cb19-4275-a696-09dd869472fe",
    "_uuid": "5b5000d280c7e9fdaf53f850316229b14b5027a7"
   },
   "source": [
    "## Contents\n",
    "\n",
    "1 - Data Information \n",
    "\n",
    "2 - Import Data and Libraries\n",
    "\n",
    "3 - Data Visualition Phase \n",
    "\n",
    "4 - Cleaning Data\n",
    "\n",
    "5 - Choosing the Best Model \n",
    "\n",
    "6 - Source"
   ]
  },
  {
   "cell_type": "markdown",
   "metadata": {
    "_cell_guid": "67f24797-7a8f-497f-abd5-3901b5376a74",
    "_uuid": "1ff7a37bfc4bd7318630ca612504e906a39455a0"
   },
   "source": [
    "## 1- Data Information\n",
    "\n",
    "* Let's see Features : \n",
    "\n",
    "\n",
    "* Cinsiyet : Sex Feature\n",
    "* Yas : Age Feature\n",
    "* Bolge : Areas inhabited in Turkey\n",
    "* Egitim : Education Level \n",
    "* (Soru = Question) (Questions include Turkey)\n",
    "* Soru1/Question1: Do you think our Economic Status is good?\n",
    "* Soru2/Question2: Need Reform in Education?\n",
    "* Soru3/Question3: Resolve Privatization Are You?\n",
    "* Soru4/Question4: Should the state use a penalty like death penalty for certain crimes?\n",
    "* Soru5/Question5: Do you find our journalists neutral enough?\n",
    "* Soru6/Question6: From 22:00 am Then Are You Supporting the Prohibition to Buy Drinks?\n",
    "* Soru7/Question7: Do You Want to Live in a Secular State?\n",
    "* Soru8/Question8: Are you supporting the abortion ban?\n",
    "* Soru9/Question9: Do you think that the extraordinary state (Ohal) restricts Freedoms?\n",
    "* Soru10/Question10: Would you like a new part of the parliament to enter?\n",
    "* Parti : Political View\n"
   ]
  },
  {
   "cell_type": "markdown",
   "metadata": {
    "_cell_guid": "491fe846-dae0-441c-828d-4f613288f7de",
    "_uuid": "228d2e831006ccd750f87d84cb5ea55fba356962"
   },
   "source": [
    "* Data Review : \n",
    "\n",
    "\n",
    "* Evet = Yes \n",
    "* Hayır = No \n",
    "* Erkek = Male \n",
    "* Kadın = Female\n",
    "* Yas = Age\n",
    "* Bolge = City \n",
    "* Egitim = Education \n",
    "* İlkokul = primary school\n",
    "* OrtaOkul = junior high school\n",
    "* Lise = High School\n",
    "* Lisans = University\n",
    "* Lisans Üstü = MA"
   ]
  },
  {
   "cell_type": "markdown",
   "metadata": {
    "_cell_guid": "0d231409-4d46-4e2e-8dd9-1596015acaa4",
    "_uuid": "00bb5400e1590c95d8d0aa7706a6b969fa622274"
   },
   "source": [
    "## 2- Import Data And Libraries"
   ]
  },
  {
   "cell_type": "code",
   "execution_count": 1,
   "metadata": {
    "_cell_guid": "b1076dfc-b9ad-4769-8c92-a6c4dae69d19",
    "_uuid": "8f2839f25d086af736a60e9eeb907d3b93b6e0e5"
   },
   "outputs": [],
   "source": [
    "import pandas as pd\n",
    "import numpy as np\n",
    "import matplotlib.pyplot as plt\n",
    "import seaborn as sns\n",
    "%matplotlib inline"
   ]
  },
  {
   "cell_type": "code",
   "execution_count": 2,
   "metadata": {
    "_cell_guid": "79c7e3d0-c299-4dcb-8224-4455121ee9b0",
    "_uuid": "d629ff2d2480ee46fbb7e2d37f6b5fab8052498a"
   },
   "outputs": [],
   "source": [
    "data = pd.read_csv('data.csv')"
   ]
  },
  {
   "cell_type": "code",
   "execution_count": 3,
   "metadata": {
    "_cell_guid": "908891ca-a055-4fec-a758-b62c276c48a3",
    "_uuid": "568fc8df78fae8497197dcf4e4c37dac23d9e237"
   },
   "outputs": [
    {
     "data": {
      "text/html": [
       "<div>\n",
       "<style scoped>\n",
       "    .dataframe tbody tr th:only-of-type {\n",
       "        vertical-align: middle;\n",
       "    }\n",
       "\n",
       "    .dataframe tbody tr th {\n",
       "        vertical-align: top;\n",
       "    }\n",
       "\n",
       "    .dataframe thead th {\n",
       "        text-align: right;\n",
       "    }\n",
       "</style>\n",
       "<table border=\"1\" class=\"dataframe\">\n",
       "  <thead>\n",
       "    <tr style=\"text-align: right;\">\n",
       "      <th></th>\n",
       "      <th>Timestamp</th>\n",
       "      <th>Cinsiyet</th>\n",
       "      <th>Yas</th>\n",
       "      <th>Bolge</th>\n",
       "      <th>Egitim</th>\n",
       "      <th>soru1</th>\n",
       "      <th>soru2</th>\n",
       "      <th>soru3</th>\n",
       "      <th>soru4</th>\n",
       "      <th>soru5</th>\n",
       "      <th>soru6</th>\n",
       "      <th>soru7</th>\n",
       "      <th>soru8</th>\n",
       "      <th>soru9</th>\n",
       "      <th>soru10</th>\n",
       "      <th>parti</th>\n",
       "    </tr>\n",
       "  </thead>\n",
       "  <tbody>\n",
       "    <tr>\n",
       "      <th>0</th>\n",
       "      <td>5/11/2018 1:26:14</td>\n",
       "      <td>Erkek</td>\n",
       "      <td>18-30</td>\n",
       "      <td>Marmara</td>\n",
       "      <td>Lisans</td>\n",
       "      <td>Hayır</td>\n",
       "      <td>Evet</td>\n",
       "      <td>Evet</td>\n",
       "      <td>Hayır</td>\n",
       "      <td>Hayır</td>\n",
       "      <td>Hayır</td>\n",
       "      <td>Evet</td>\n",
       "      <td>Hayır</td>\n",
       "      <td>Evet</td>\n",
       "      <td>Evet</td>\n",
       "      <td>IYI PARTI</td>\n",
       "    </tr>\n",
       "    <tr>\n",
       "      <th>1</th>\n",
       "      <td>5/11/2018 1:28:11</td>\n",
       "      <td>Erkek</td>\n",
       "      <td>18-30</td>\n",
       "      <td>Marmara</td>\n",
       "      <td>Lisans</td>\n",
       "      <td>Evet</td>\n",
       "      <td>Evet</td>\n",
       "      <td>Hayır</td>\n",
       "      <td>Evet</td>\n",
       "      <td>Hayır</td>\n",
       "      <td>Evet</td>\n",
       "      <td>Hayır</td>\n",
       "      <td>Evet</td>\n",
       "      <td>Hayır</td>\n",
       "      <td>Hayır</td>\n",
       "      <td>AKP</td>\n",
       "    </tr>\n",
       "    <tr>\n",
       "      <th>2</th>\n",
       "      <td>5/11/2018 1:28:26</td>\n",
       "      <td>Kadın</td>\n",
       "      <td>18-30</td>\n",
       "      <td>Marmara</td>\n",
       "      <td>Lisans</td>\n",
       "      <td>Hayır</td>\n",
       "      <td>Evet</td>\n",
       "      <td>Hayır</td>\n",
       "      <td>Hayır</td>\n",
       "      <td>Hayır</td>\n",
       "      <td>Hayır</td>\n",
       "      <td>Evet</td>\n",
       "      <td>Hayır</td>\n",
       "      <td>Evet</td>\n",
       "      <td>Evet</td>\n",
       "      <td>DIĞER</td>\n",
       "    </tr>\n",
       "    <tr>\n",
       "      <th>3</th>\n",
       "      <td>5/11/2018 1:30:18</td>\n",
       "      <td>Erkek</td>\n",
       "      <td>0-18</td>\n",
       "      <td>Marmara</td>\n",
       "      <td>Lise</td>\n",
       "      <td>Evet</td>\n",
       "      <td>Evet</td>\n",
       "      <td>Hayır</td>\n",
       "      <td>Evet</td>\n",
       "      <td>Hayır</td>\n",
       "      <td>Evet</td>\n",
       "      <td>Evet</td>\n",
       "      <td>Evet</td>\n",
       "      <td>Evet</td>\n",
       "      <td>Evet</td>\n",
       "      <td>IYI PARTI</td>\n",
       "    </tr>\n",
       "    <tr>\n",
       "      <th>4</th>\n",
       "      <td>5/11/2018 1:30:21</td>\n",
       "      <td>Erkek</td>\n",
       "      <td>18-30</td>\n",
       "      <td>Marmara</td>\n",
       "      <td>Ön Lisans</td>\n",
       "      <td>Hayır</td>\n",
       "      <td>Evet</td>\n",
       "      <td>Evet</td>\n",
       "      <td>Evet</td>\n",
       "      <td>Hayır</td>\n",
       "      <td>Hayır</td>\n",
       "      <td>Evet</td>\n",
       "      <td>Evet</td>\n",
       "      <td>Hayır</td>\n",
       "      <td>Hayır</td>\n",
       "      <td>IYI PARTI</td>\n",
       "    </tr>\n",
       "  </tbody>\n",
       "</table>\n",
       "</div>"
      ],
      "text/plain": [
       "           Timestamp Cinsiyet    Yas    Bolge     Egitim  soru1 soru2  soru3  \\\n",
       "0  5/11/2018 1:26:14    Erkek  18-30  Marmara     Lisans  Hayır  Evet   Evet   \n",
       "1  5/11/2018 1:28:11    Erkek  18-30  Marmara     Lisans   Evet  Evet  Hayır   \n",
       "2  5/11/2018 1:28:26    Kadın  18-30  Marmara     Lisans  Hayır  Evet  Hayır   \n",
       "3  5/11/2018 1:30:18    Erkek   0-18  Marmara       Lise   Evet  Evet  Hayır   \n",
       "4  5/11/2018 1:30:21    Erkek  18-30  Marmara  Ön Lisans  Hayır  Evet   Evet   \n",
       "\n",
       "   soru4  soru5  soru6  soru7  soru8  soru9 soru10      parti  \n",
       "0  Hayır  Hayır  Hayır   Evet  Hayır   Evet   Evet  IYI PARTI  \n",
       "1   Evet  Hayır   Evet  Hayır   Evet  Hayır  Hayır        AKP  \n",
       "2  Hayır  Hayır  Hayır   Evet  Hayır   Evet   Evet      DIĞER  \n",
       "3   Evet  Hayır   Evet   Evet   Evet   Evet   Evet  IYI PARTI  \n",
       "4   Evet  Hayır  Hayır   Evet   Evet  Hayır  Hayır  IYI PARTI  "
      ]
     },
     "execution_count": 3,
     "metadata": {},
     "output_type": "execute_result"
    }
   ],
   "source": [
    "data.head()"
   ]
  },
  {
   "cell_type": "code",
   "execution_count": 4,
   "metadata": {
    "_cell_guid": "9950cd33-6252-4458-8c87-894eb8573d7b",
    "_uuid": "0e32d873114369e41c2896f6d8063cbada354b23"
   },
   "outputs": [
    {
     "name": "stdout",
     "output_type": "stream",
     "text": [
      "<class 'pandas.core.frame.DataFrame'>\n",
      "RangeIndex: 168 entries, 0 to 167\n",
      "Data columns (total 16 columns):\n",
      "Timestamp    168 non-null object\n",
      "Cinsiyet     168 non-null object\n",
      "Yas          168 non-null object\n",
      "Bolge        168 non-null object\n",
      "Egitim       168 non-null object\n",
      "soru1        168 non-null object\n",
      "soru2        168 non-null object\n",
      "soru3        168 non-null object\n",
      "soru4        168 non-null object\n",
      "soru5        168 non-null object\n",
      "soru6        168 non-null object\n",
      "soru7        168 non-null object\n",
      "soru8        168 non-null object\n",
      "soru9        168 non-null object\n",
      "soru10       168 non-null object\n",
      "parti        168 non-null object\n",
      "dtypes: object(16)\n",
      "memory usage: 21.1+ KB\n"
     ]
    }
   ],
   "source": [
    "data.info()"
   ]
  },
  {
   "cell_type": "code",
   "execution_count": 5,
   "metadata": {
    "_cell_guid": "bf8feaef-54e2-45bb-9df6-8dea20dc15c5",
    "_uuid": "61f99683dbec89576995552e9b25435ce582eae2"
   },
   "outputs": [
    {
     "data": {
      "text/html": [
       "<div>\n",
       "<style scoped>\n",
       "    .dataframe tbody tr th:only-of-type {\n",
       "        vertical-align: middle;\n",
       "    }\n",
       "\n",
       "    .dataframe tbody tr th {\n",
       "        vertical-align: top;\n",
       "    }\n",
       "\n",
       "    .dataframe thead th {\n",
       "        text-align: right;\n",
       "    }\n",
       "</style>\n",
       "<table border=\"1\" class=\"dataframe\">\n",
       "  <thead>\n",
       "    <tr style=\"text-align: right;\">\n",
       "      <th></th>\n",
       "      <th>Timestamp</th>\n",
       "      <th>Cinsiyet</th>\n",
       "      <th>Yas</th>\n",
       "      <th>Bolge</th>\n",
       "      <th>Egitim</th>\n",
       "      <th>soru1</th>\n",
       "      <th>soru2</th>\n",
       "      <th>soru3</th>\n",
       "      <th>soru4</th>\n",
       "      <th>soru5</th>\n",
       "      <th>soru6</th>\n",
       "      <th>soru7</th>\n",
       "      <th>soru8</th>\n",
       "      <th>soru9</th>\n",
       "      <th>soru10</th>\n",
       "      <th>parti</th>\n",
       "    </tr>\n",
       "  </thead>\n",
       "  <tbody>\n",
       "    <tr>\n",
       "      <th>count</th>\n",
       "      <td>168</td>\n",
       "      <td>168</td>\n",
       "      <td>168</td>\n",
       "      <td>168</td>\n",
       "      <td>168</td>\n",
       "      <td>168</td>\n",
       "      <td>168</td>\n",
       "      <td>168</td>\n",
       "      <td>168</td>\n",
       "      <td>168</td>\n",
       "      <td>168</td>\n",
       "      <td>168</td>\n",
       "      <td>168</td>\n",
       "      <td>168</td>\n",
       "      <td>168</td>\n",
       "      <td>168</td>\n",
       "    </tr>\n",
       "    <tr>\n",
       "      <th>unique</th>\n",
       "      <td>168</td>\n",
       "      <td>2</td>\n",
       "      <td>5</td>\n",
       "      <td>7</td>\n",
       "      <td>6</td>\n",
       "      <td>2</td>\n",
       "      <td>2</td>\n",
       "      <td>2</td>\n",
       "      <td>2</td>\n",
       "      <td>2</td>\n",
       "      <td>2</td>\n",
       "      <td>2</td>\n",
       "      <td>2</td>\n",
       "      <td>2</td>\n",
       "      <td>2</td>\n",
       "      <td>6</td>\n",
       "    </tr>\n",
       "    <tr>\n",
       "      <th>top</th>\n",
       "      <td>5/11/2018 2:13:20</td>\n",
       "      <td>Erkek</td>\n",
       "      <td>18-30</td>\n",
       "      <td>Marmara</td>\n",
       "      <td>Lisans</td>\n",
       "      <td>Hayır</td>\n",
       "      <td>Evet</td>\n",
       "      <td>Evet</td>\n",
       "      <td>Hayır</td>\n",
       "      <td>Hayır</td>\n",
       "      <td>Hayır</td>\n",
       "      <td>Evet</td>\n",
       "      <td>Hayır</td>\n",
       "      <td>Evet</td>\n",
       "      <td>Evet</td>\n",
       "      <td>IYI PARTI</td>\n",
       "    </tr>\n",
       "    <tr>\n",
       "      <th>freq</th>\n",
       "      <td>1</td>\n",
       "      <td>138</td>\n",
       "      <td>102</td>\n",
       "      <td>97</td>\n",
       "      <td>79</td>\n",
       "      <td>99</td>\n",
       "      <td>161</td>\n",
       "      <td>86</td>\n",
       "      <td>84</td>\n",
       "      <td>160</td>\n",
       "      <td>109</td>\n",
       "      <td>132</td>\n",
       "      <td>106</td>\n",
       "      <td>125</td>\n",
       "      <td>134</td>\n",
       "      <td>44</td>\n",
       "    </tr>\n",
       "  </tbody>\n",
       "</table>\n",
       "</div>"
      ],
      "text/plain": [
       "                Timestamp Cinsiyet    Yas    Bolge  Egitim  soru1 soru2 soru3  \\\n",
       "count                 168      168    168      168     168    168   168   168   \n",
       "unique                168        2      5        7       6      2     2     2   \n",
       "top     5/11/2018 2:13:20    Erkek  18-30  Marmara  Lisans  Hayır  Evet  Evet   \n",
       "freq                    1      138    102       97      79     99   161    86   \n",
       "\n",
       "        soru4  soru5  soru6 soru7  soru8 soru9 soru10      parti  \n",
       "count     168    168    168   168    168   168    168        168  \n",
       "unique      2      2      2     2      2     2      2          6  \n",
       "top     Hayır  Hayır  Hayır  Evet  Hayır  Evet   Evet  IYI PARTI  \n",
       "freq       84    160    109   132    106   125    134         44  "
      ]
     },
     "execution_count": 5,
     "metadata": {},
     "output_type": "execute_result"
    }
   ],
   "source": [
    "data.describe()"
   ]
  },
  {
   "cell_type": "markdown",
   "metadata": {
    "_cell_guid": "cafa0e49-e983-4443-97fb-9f7d9f788a24",
    "_uuid": "fd4c6448d1ec0e6d390551f89e17d24ae480dabf"
   },
   "source": [
    "## 3- Data Visualition Phase"
   ]
  },
  {
   "cell_type": "code",
   "execution_count": 6,
   "metadata": {
    "_cell_guid": "ccae0d38-10e7-40e2-bbdd-3f269dd2f418",
    "_uuid": "efc81fb0b12dfb0972612ce00d14fda8baf31ff6"
   },
   "outputs": [
    {
     "name": "stdout",
     "output_type": "stream",
     "text": [
      "\n"
     ]
    },
    {
     "data": {
      "image/png": "[encoded data removed]",
      "text/plain": [
       "<matplotlib.figure.Figure at 0x2595a027208>"
      ]
     },
     "metadata": {},
     "output_type": "display_data"
    }
   ],
   "source": [
    "fig = plt.figure(figsize=(5,5))\n",
    "data['Cinsiyet'].value_counts().plot(kind = 'pie', autopct='%.1f%%')\n",
    "plt.ylabel(\" \", fontsize = 15)\n",
    "plt.title(\"Gender Distribution for the Sample\")\n",
    "print(\"\")"
   ]
  },
  {
   "cell_type": "code",
   "execution_count": 7,
   "metadata": {
    "_cell_guid": "4369d41c-6d3f-40eb-a817-4d57a6e2b996",
    "_uuid": "d4e2737f5443b483fa8b5d545ca6f28eaf6a6404"
   },
   "outputs": [
    {
     "name": "stdout",
     "output_type": "stream",
     "text": [
      "\n"
     ]
    },
    {
     "data": {
      "image/png": "[encoded data removed]",
      "text/plain": [
       "<matplotlib.figure.Figure at 0x2595a0590b8>"
      ]
     },
     "metadata": {},
     "output_type": "display_data"
    }
   ],
   "source": [
    "fig = plt.figure(figsize=(5,5))\n",
    "data['Yas'].value_counts().plot(kind = 'pie', autopct='%.1f%%')\n",
    "plt.ylabel(\" \", fontsize = 15)\n",
    "plt.title(\"Age Distribution for the Sample\")\n",
    "print(\"\")"
   ]
  },
  {
   "cell_type": "code",
   "execution_count": 8,
   "metadata": {
    "_cell_guid": "73cb4337-f5d9-4393-84f7-74bc55101c3e",
    "_uuid": "4a0e86b1d4762c7a97529a948f669b8142a5e92c"
   },
   "outputs": [
    {
     "name": "stdout",
     "output_type": "stream",
     "text": [
      "\n"
     ]
    },
    {
     "data": {
      "image/png": "[encoded data removed]",
      "text/plain": [
       "<matplotlib.figure.Figure at 0x2595a3be3c8>"
      ]
     },
     "metadata": {},
     "output_type": "display_data"
    }
   ],
   "source": [
    "fig = plt.figure(figsize=(5,5))\n",
    "data['Bolge'].value_counts().plot(kind = 'pie', autopct='%.1f%%')\n",
    "plt.ylabel(\" \", fontsize = 15)\n",
    "plt.title(\"Örneklem için Yaş Dağılımı\")\n",
    "print(\"\")"
   ]
  },
  {
   "cell_type": "code",
   "execution_count": 9,
   "metadata": {
    "_cell_guid": "7aedebc4-d20a-4e76-902a-4143a4b24097",
    "_uuid": "2b1950787227d1206fd084f66fc725451efb20ff"
   },
   "outputs": [
    {
     "name": "stdout",
     "output_type": "stream",
     "text": [
      "\n"
     ]
    },
    {
     "data": {
      "image/png": "[encoded data removed]",
      "text/plain": [
       "<matplotlib.figure.Figure at 0x2595a409550>"
      ]
     },
     "metadata": {},
     "output_type": "display_data"
    }
   ],
   "source": [
    "fig = plt.figure(figsize=(5,5))\n",
    "data['parti'].value_counts().plot(kind = 'pie', autopct='%.1f%%')\n",
    "plt.ylabel(\" \", fontsize = 15)\n",
    "plt.title(\"Political opinion distribution for the sample\")\n",
    "print(\"\")"
   ]
  },
  {
   "cell_type": "code",
   "execution_count": 10,
   "metadata": {
    "_cell_guid": "7dc76af4-0309-4112-a08d-37cc1f700b64",
    "_uuid": "f9c6f46865c87440b0d29174d8dae8e9ded24065"
   },
   "outputs": [
    {
     "name": "stdout",
     "output_type": "stream",
     "text": [
      " \n"
     ]
    },
    {
     "data": {
      "image/png": "[encoded data removed]",
      "text/plain": [
       "<matplotlib.figure.Figure at 0x2595a4c44e0>"
      ]
     },
     "metadata": {},
     "output_type": "display_data"
    }
   ],
   "source": [
    "fig = plt.figure(figsize=(30,30))\n",
    "p1 = fig.add_subplot(4,4,1)\n",
    "data['soru1'].value_counts().plot(kind = 'pie', autopct='%.1f%%')\n",
    "plt.ylabel(\" \", fontsize = 15)\n",
    "plt.title(\"Do you think our Economic Status is good?\")\n",
    "plt.grid()\n",
    "p2 = fig.add_subplot(4,4,2)\n",
    "data['soru2'].value_counts().plot(kind = 'pie', autopct='%.1f%%')\n",
    "plt.title(\"Need Reform in Education?\")\n",
    "plt.ylabel(\" \", fontsize = 15)\n",
    "plt.grid()\n",
    "p3 = fig.add_subplot(4,4,3)\n",
    "data['soru3'].value_counts().plot(kind = 'pie', autopct='%.1f%%')\n",
    "plt.title(\"Resolve Privatization Are You?\")\n",
    "plt.ylabel(\" \", fontsize = 15)\n",
    "plt.grid()\n",
    "p4 = fig.add_subplot(4,4,4)\n",
    "data['soru4'].value_counts().plot(kind = 'pie', autopct='%.1f%%')\n",
    "plt.ylabel(\" \", fontsize = 15)\n",
    "plt.title(\"Should the state use a death penalty for certain crimes?\")\n",
    "p5 = fig.add_subplot(4,4,5)\n",
    "data['soru5'].value_counts().plot(kind = 'pie', autopct='%.1f%%')\n",
    "plt.ylabel(\" \", fontsize = 15)\n",
    "plt.title(\"Do you find our journalists neutral enough?\")\n",
    "plt.grid()\n",
    "p6 = fig.add_subplot(4,4,6)\n",
    "data['soru6'].value_counts().plot(kind = 'pie', autopct='%.1f%%')\n",
    "plt.title(\"From 22:00 am Then Are You Supporting the Prohibition to Buy Drinks?\")\n",
    "plt.ylabel(\" \", fontsize = 15)\n",
    "plt.grid()\n",
    "p7 = fig.add_subplot(4,4,7)\n",
    "data['soru7'].value_counts().plot(kind = 'pie', autopct='%.1f%%')\n",
    "plt.title(\"Do You Want to Live in a Secular State?\")\n",
    "plt.ylabel(\" \", fontsize = 15)\n",
    "plt.grid()\n",
    "p8 = fig.add_subplot(4,4,8)\n",
    "data['soru8'].value_counts().plot(kind = 'pie', autopct='%.1f%%')\n",
    "plt.ylabel(\" \", fontsize = 15)\n",
    "plt.title(\"Are you supporting the abortion ban?\")\n",
    "p9 = fig.add_subplot(4,4,9)\n",
    "data['soru9'].value_counts().plot(kind = 'pie', autopct='%.1f%%')\n",
    "plt.title(\"Do you think that the extraordinary state restricts Freedoms?\")\n",
    "plt.ylabel(\" \", fontsize = 15)\n",
    "plt.grid()\n",
    "p10 = fig.add_subplot(4,4,10)\n",
    "data['soru10'].value_counts().plot(kind = 'pie', autopct='%.1f%%')\n",
    "plt.ylabel(\" \", fontsize = 15)\n",
    "plt.title(\"Would you like a new part of the parliament to enter?\")\n",
    "print(\" \")"
   ]
  },
  {
   "cell_type": "markdown",
   "metadata": {
    "_cell_guid": "c31325a4-d2f8-4e62-b996-404daf898f59",
    "_uuid": "dffdf8326dde473a2062e3c5e8f1029ce0b95f8a"
   },
   "source": [
    "## 4- Cleaning Data"
   ]
  },
  {
   "cell_type": "markdown",
   "metadata": {
    "_cell_guid": "82c89a0b-4bfc-4e14-9599-2706e884493f",
    "_uuid": "c1253a6f47811189adfd24003a5e3d2f49fe031d"
   },
   "source": [
    "**  First We Need Drop Some Axis, Like TimeStamp **"
   ]
  },
  {
   "cell_type": "code",
   "execution_count": 11,
   "metadata": {
    "_cell_guid": "51601fda-1be2-4d42-af25-6cd2e0d92ab9",
    "_uuid": "71fb739030ae50ab87e64544fbcb457603fbf481"
   },
   "outputs": [
    {
     "data": {
      "text/html": [
       "<div>\n",
       "<style scoped>\n",
       "    .dataframe tbody tr th:only-of-type {\n",
       "        vertical-align: middle;\n",
       "    }\n",
       "\n",
       "    .dataframe tbody tr th {\n",
       "        vertical-align: top;\n",
       "    }\n",
       "\n",
       "    .dataframe thead th {\n",
       "        text-align: right;\n",
       "    }\n",
       "</style>\n",
       "<table border=\"1\" class=\"dataframe\">\n",
       "  <thead>\n",
       "    <tr style=\"text-align: right;\">\n",
       "      <th></th>\n",
       "      <th>Cinsiyet</th>\n",
       "      <th>Yas</th>\n",
       "      <th>Bolge</th>\n",
       "      <th>Egitim</th>\n",
       "      <th>soru1</th>\n",
       "      <th>soru2</th>\n",
       "      <th>soru3</th>\n",
       "      <th>soru4</th>\n",
       "      <th>soru5</th>\n",
       "      <th>soru6</th>\n",
       "      <th>soru7</th>\n",
       "      <th>soru8</th>\n",
       "      <th>soru9</th>\n",
       "      <th>soru10</th>\n",
       "      <th>parti</th>\n",
       "    </tr>\n",
       "  </thead>\n",
       "  <tbody>\n",
       "    <tr>\n",
       "      <th>0</th>\n",
       "      <td>Erkek</td>\n",
       "      <td>18-30</td>\n",
       "      <td>Marmara</td>\n",
       "      <td>Lisans</td>\n",
       "      <td>Hayır</td>\n",
       "      <td>Evet</td>\n",
       "      <td>Evet</td>\n",
       "      <td>Hayır</td>\n",
       "      <td>Hayır</td>\n",
       "      <td>Hayır</td>\n",
       "      <td>Evet</td>\n",
       "      <td>Hayır</td>\n",
       "      <td>Evet</td>\n",
       "      <td>Evet</td>\n",
       "      <td>IYI PARTI</td>\n",
       "    </tr>\n",
       "    <tr>\n",
       "      <th>1</th>\n",
       "      <td>Erkek</td>\n",
       "      <td>18-30</td>\n",
       "      <td>Marmara</td>\n",
       "      <td>Lisans</td>\n",
       "      <td>Evet</td>\n",
       "      <td>Evet</td>\n",
       "      <td>Hayır</td>\n",
       "      <td>Evet</td>\n",
       "      <td>Hayır</td>\n",
       "      <td>Evet</td>\n",
       "      <td>Hayır</td>\n",
       "      <td>Evet</td>\n",
       "      <td>Hayır</td>\n",
       "      <td>Hayır</td>\n",
       "      <td>AKP</td>\n",
       "    </tr>\n",
       "    <tr>\n",
       "      <th>2</th>\n",
       "      <td>Kadın</td>\n",
       "      <td>18-30</td>\n",
       "      <td>Marmara</td>\n",
       "      <td>Lisans</td>\n",
       "      <td>Hayır</td>\n",
       "      <td>Evet</td>\n",
       "      <td>Hayır</td>\n",
       "      <td>Hayır</td>\n",
       "      <td>Hayır</td>\n",
       "      <td>Hayır</td>\n",
       "      <td>Evet</td>\n",
       "      <td>Hayır</td>\n",
       "      <td>Evet</td>\n",
       "      <td>Evet</td>\n",
       "      <td>DIĞER</td>\n",
       "    </tr>\n",
       "    <tr>\n",
       "      <th>3</th>\n",
       "      <td>Erkek</td>\n",
       "      <td>0-18</td>\n",
       "      <td>Marmara</td>\n",
       "      <td>Lise</td>\n",
       "      <td>Evet</td>\n",
       "      <td>Evet</td>\n",
       "      <td>Hayır</td>\n",
       "      <td>Evet</td>\n",
       "      <td>Hayır</td>\n",
       "      <td>Evet</td>\n",
       "      <td>Evet</td>\n",
       "      <td>Evet</td>\n",
       "      <td>Evet</td>\n",
       "      <td>Evet</td>\n",
       "      <td>IYI PARTI</td>\n",
       "    </tr>\n",
       "    <tr>\n",
       "      <th>4</th>\n",
       "      <td>Erkek</td>\n",
       "      <td>18-30</td>\n",
       "      <td>Marmara</td>\n",
       "      <td>Ön Lisans</td>\n",
       "      <td>Hayır</td>\n",
       "      <td>Evet</td>\n",
       "      <td>Evet</td>\n",
       "      <td>Evet</td>\n",
       "      <td>Hayır</td>\n",
       "      <td>Hayır</td>\n",
       "      <td>Evet</td>\n",
       "      <td>Evet</td>\n",
       "      <td>Hayır</td>\n",
       "      <td>Hayır</td>\n",
       "      <td>IYI PARTI</td>\n",
       "    </tr>\n",
       "  </tbody>\n",
       "</table>\n",
       "</div>"
      ],
      "text/plain": [
       "  Cinsiyet    Yas    Bolge     Egitim  soru1 soru2  soru3  soru4  soru5  \\\n",
       "0    Erkek  18-30  Marmara     Lisans  Hayır  Evet   Evet  Hayır  Hayır   \n",
       "1    Erkek  18-30  Marmara     Lisans   Evet  Evet  Hayır   Evet  Hayır   \n",
       "2    Kadın  18-30  Marmara     Lisans  Hayır  Evet  Hayır  Hayır  Hayır   \n",
       "3    Erkek   0-18  Marmara       Lise   Evet  Evet  Hayır   Evet  Hayır   \n",
       "4    Erkek  18-30  Marmara  Ön Lisans  Hayır  Evet   Evet   Evet  Hayır   \n",
       "\n",
       "   soru6  soru7  soru8  soru9 soru10      parti  \n",
       "0  Hayır   Evet  Hayır   Evet   Evet  IYI PARTI  \n",
       "1   Evet  Hayır   Evet  Hayır  Hayır        AKP  \n",
       "2  Hayır   Evet  Hayır   Evet   Evet      DIĞER  \n",
       "3   Evet   Evet   Evet   Evet   Evet  IYI PARTI  \n",
       "4  Hayır   Evet   Evet  Hayır  Hayır  IYI PARTI  "
      ]
     },
     "execution_count": 11,
     "metadata": {},
     "output_type": "execute_result"
    }
   ],
   "source": [
    "data = data.drop(['Timestamp'], axis = 1)\n",
    "data.head()"
   ]
  },
  {
   "cell_type": "markdown",
   "metadata": {
    "_cell_guid": "46f56d16-b866-4dca-8f89-ec0bc2092b7a",
    "_uuid": "601985a28ebb31238d2e810cc24a2b61515e2491"
   },
   "source": [
    "**  Second We Mapping The Features Data **"
   ]
  },
  {
   "cell_type": "code",
   "execution_count": 12,
   "metadata": {
    "_cell_guid": "60038c24-3382-4f71-a282-6c5205fb20bc",
    "_uuid": "3401884c496d4af2ee1fc857e05e4b9d7f6b0389"
   },
   "outputs": [
    {
     "data": {
      "text/html": [
       "<div>\n",
       "<style scoped>\n",
       "    .dataframe tbody tr th:only-of-type {\n",
       "        vertical-align: middle;\n",
       "    }\n",
       "\n",
       "    .dataframe tbody tr th {\n",
       "        vertical-align: top;\n",
       "    }\n",
       "\n",
       "    .dataframe thead th {\n",
       "        text-align: right;\n",
       "    }\n",
       "</style>\n",
       "<table border=\"1\" class=\"dataframe\">\n",
       "  <thead>\n",
       "    <tr style=\"text-align: right;\">\n",
       "      <th></th>\n",
       "      <th>Cinsiyet</th>\n",
       "      <th>Yas</th>\n",
       "      <th>Bolge</th>\n",
       "      <th>Egitim</th>\n",
       "      <th>soru1</th>\n",
       "      <th>soru2</th>\n",
       "      <th>soru3</th>\n",
       "      <th>soru4</th>\n",
       "      <th>soru5</th>\n",
       "      <th>soru6</th>\n",
       "      <th>soru7</th>\n",
       "      <th>soru8</th>\n",
       "      <th>soru9</th>\n",
       "      <th>soru10</th>\n",
       "      <th>parti</th>\n",
       "    </tr>\n",
       "  </thead>\n",
       "  <tbody>\n",
       "    <tr>\n",
       "      <th>0</th>\n",
       "      <td>Erkek</td>\n",
       "      <td>2</td>\n",
       "      <td>Marmara</td>\n",
       "      <td>Lisans</td>\n",
       "      <td>Hayır</td>\n",
       "      <td>Evet</td>\n",
       "      <td>Evet</td>\n",
       "      <td>Hayır</td>\n",
       "      <td>Hayır</td>\n",
       "      <td>Hayır</td>\n",
       "      <td>Evet</td>\n",
       "      <td>Hayır</td>\n",
       "      <td>Evet</td>\n",
       "      <td>Evet</td>\n",
       "      <td>IYI PARTI</td>\n",
       "    </tr>\n",
       "    <tr>\n",
       "      <th>1</th>\n",
       "      <td>Erkek</td>\n",
       "      <td>2</td>\n",
       "      <td>Marmara</td>\n",
       "      <td>Lisans</td>\n",
       "      <td>Evet</td>\n",
       "      <td>Evet</td>\n",
       "      <td>Hayır</td>\n",
       "      <td>Evet</td>\n",
       "      <td>Hayır</td>\n",
       "      <td>Evet</td>\n",
       "      <td>Hayır</td>\n",
       "      <td>Evet</td>\n",
       "      <td>Hayır</td>\n",
       "      <td>Hayır</td>\n",
       "      <td>AKP</td>\n",
       "    </tr>\n",
       "    <tr>\n",
       "      <th>2</th>\n",
       "      <td>Kadın</td>\n",
       "      <td>2</td>\n",
       "      <td>Marmara</td>\n",
       "      <td>Lisans</td>\n",
       "      <td>Hayır</td>\n",
       "      <td>Evet</td>\n",
       "      <td>Hayır</td>\n",
       "      <td>Hayır</td>\n",
       "      <td>Hayır</td>\n",
       "      <td>Hayır</td>\n",
       "      <td>Evet</td>\n",
       "      <td>Hayır</td>\n",
       "      <td>Evet</td>\n",
       "      <td>Evet</td>\n",
       "      <td>DIĞER</td>\n",
       "    </tr>\n",
       "    <tr>\n",
       "      <th>3</th>\n",
       "      <td>Erkek</td>\n",
       "      <td>1</td>\n",
       "      <td>Marmara</td>\n",
       "      <td>Lise</td>\n",
       "      <td>Evet</td>\n",
       "      <td>Evet</td>\n",
       "      <td>Hayır</td>\n",
       "      <td>Evet</td>\n",
       "      <td>Hayır</td>\n",
       "      <td>Evet</td>\n",
       "      <td>Evet</td>\n",
       "      <td>Evet</td>\n",
       "      <td>Evet</td>\n",
       "      <td>Evet</td>\n",
       "      <td>IYI PARTI</td>\n",
       "    </tr>\n",
       "    <tr>\n",
       "      <th>4</th>\n",
       "      <td>Erkek</td>\n",
       "      <td>2</td>\n",
       "      <td>Marmara</td>\n",
       "      <td>Ön Lisans</td>\n",
       "      <td>Hayır</td>\n",
       "      <td>Evet</td>\n",
       "      <td>Evet</td>\n",
       "      <td>Evet</td>\n",
       "      <td>Hayır</td>\n",
       "      <td>Hayır</td>\n",
       "      <td>Evet</td>\n",
       "      <td>Evet</td>\n",
       "      <td>Hayır</td>\n",
       "      <td>Hayır</td>\n",
       "      <td>IYI PARTI</td>\n",
       "    </tr>\n",
       "  </tbody>\n",
       "</table>\n",
       "</div>"
      ],
      "text/plain": [
       "  Cinsiyet  Yas    Bolge     Egitim  soru1 soru2  soru3  soru4  soru5  soru6  \\\n",
       "0    Erkek    2  Marmara     Lisans  Hayır  Evet   Evet  Hayır  Hayır  Hayır   \n",
       "1    Erkek    2  Marmara     Lisans   Evet  Evet  Hayır   Evet  Hayır   Evet   \n",
       "2    Kadın    2  Marmara     Lisans  Hayır  Evet  Hayır  Hayır  Hayır  Hayır   \n",
       "3    Erkek    1  Marmara       Lise   Evet  Evet  Hayır   Evet  Hayır   Evet   \n",
       "4    Erkek    2  Marmara  Ön Lisans  Hayır  Evet   Evet   Evet  Hayır  Hayır   \n",
       "\n",
       "   soru7  soru8  soru9 soru10      parti  \n",
       "0   Evet  Hayır   Evet   Evet  IYI PARTI  \n",
       "1  Hayır   Evet  Hayır  Hayır        AKP  \n",
       "2   Evet  Hayır   Evet   Evet      DIĞER  \n",
       "3   Evet   Evet   Evet   Evet  IYI PARTI  \n",
       "4   Evet   Evet  Hayır  Hayır  IYI PARTI  "
      ]
     },
     "execution_count": 12,
     "metadata": {},
     "output_type": "execute_result"
    }
   ],
   "source": [
    "combine = [data]\n",
    "age_mapping = {\"0-18\": 1, \"18-30\": 2, \"30-50\": 3, \"50-60\": 4, \"60+\": 5}\n",
    "for dataset in combine:\n",
    "    dataset['Yas'] = dataset['Yas'].map(age_mapping)\n",
    "    dataset['Yas'] = dataset['Yas'].fillna(0)\n",
    "\n",
    "data.head()"
   ]
  },
  {
   "cell_type": "code",
   "execution_count": 13,
   "metadata": {
    "_cell_guid": "eb63b6ea-bbe5-48a1-bda4-762a8070524b",
    "_uuid": "96f94d9d75cc271b5b469981ed4058ada1e3bd2b"
   },
   "outputs": [
    {
     "data": {
      "text/html": [
       "<div>\n",
       "<style scoped>\n",
       "    .dataframe tbody tr th:only-of-type {\n",
       "        vertical-align: middle;\n",
       "    }\n",
       "\n",
       "    .dataframe tbody tr th {\n",
       "        vertical-align: top;\n",
       "    }\n",
       "\n",
       "    .dataframe thead th {\n",
       "        text-align: right;\n",
       "    }\n",
       "</style>\n",
       "<table border=\"1\" class=\"dataframe\">\n",
       "  <thead>\n",
       "    <tr style=\"text-align: right;\">\n",
       "      <th></th>\n",
       "      <th>Cinsiyet</th>\n",
       "      <th>Yas</th>\n",
       "      <th>Bolge</th>\n",
       "      <th>Egitim</th>\n",
       "      <th>soru1</th>\n",
       "      <th>soru2</th>\n",
       "      <th>soru3</th>\n",
       "      <th>soru4</th>\n",
       "      <th>soru5</th>\n",
       "      <th>soru6</th>\n",
       "      <th>soru7</th>\n",
       "      <th>soru8</th>\n",
       "      <th>soru9</th>\n",
       "      <th>soru10</th>\n",
       "      <th>parti</th>\n",
       "    </tr>\n",
       "  </thead>\n",
       "  <tbody>\n",
       "    <tr>\n",
       "      <th>0</th>\n",
       "      <td>0</td>\n",
       "      <td>2</td>\n",
       "      <td>Marmara</td>\n",
       "      <td>Lisans</td>\n",
       "      <td>Hayır</td>\n",
       "      <td>Evet</td>\n",
       "      <td>Evet</td>\n",
       "      <td>Hayır</td>\n",
       "      <td>Hayır</td>\n",
       "      <td>Hayır</td>\n",
       "      <td>Evet</td>\n",
       "      <td>Hayır</td>\n",
       "      <td>Evet</td>\n",
       "      <td>Evet</td>\n",
       "      <td>IYI PARTI</td>\n",
       "    </tr>\n",
       "    <tr>\n",
       "      <th>1</th>\n",
       "      <td>0</td>\n",
       "      <td>2</td>\n",
       "      <td>Marmara</td>\n",
       "      <td>Lisans</td>\n",
       "      <td>Evet</td>\n",
       "      <td>Evet</td>\n",
       "      <td>Hayır</td>\n",
       "      <td>Evet</td>\n",
       "      <td>Hayır</td>\n",
       "      <td>Evet</td>\n",
       "      <td>Hayır</td>\n",
       "      <td>Evet</td>\n",
       "      <td>Hayır</td>\n",
       "      <td>Hayır</td>\n",
       "      <td>AKP</td>\n",
       "    </tr>\n",
       "    <tr>\n",
       "      <th>2</th>\n",
       "      <td>1</td>\n",
       "      <td>2</td>\n",
       "      <td>Marmara</td>\n",
       "      <td>Lisans</td>\n",
       "      <td>Hayır</td>\n",
       "      <td>Evet</td>\n",
       "      <td>Hayır</td>\n",
       "      <td>Hayır</td>\n",
       "      <td>Hayır</td>\n",
       "      <td>Hayır</td>\n",
       "      <td>Evet</td>\n",
       "      <td>Hayır</td>\n",
       "      <td>Evet</td>\n",
       "      <td>Evet</td>\n",
       "      <td>DIĞER</td>\n",
       "    </tr>\n",
       "    <tr>\n",
       "      <th>3</th>\n",
       "      <td>0</td>\n",
       "      <td>1</td>\n",
       "      <td>Marmara</td>\n",
       "      <td>Lise</td>\n",
       "      <td>Evet</td>\n",
       "      <td>Evet</td>\n",
       "      <td>Hayır</td>\n",
       "      <td>Evet</td>\n",
       "      <td>Hayır</td>\n",
       "      <td>Evet</td>\n",
       "      <td>Evet</td>\n",
       "      <td>Evet</td>\n",
       "      <td>Evet</td>\n",
       "      <td>Evet</td>\n",
       "      <td>IYI PARTI</td>\n",
       "    </tr>\n",
       "    <tr>\n",
       "      <th>4</th>\n",
       "      <td>0</td>\n",
       "      <td>2</td>\n",
       "      <td>Marmara</td>\n",
       "      <td>Ön Lisans</td>\n",
       "      <td>Hayır</td>\n",
       "      <td>Evet</td>\n",
       "      <td>Evet</td>\n",
       "      <td>Evet</td>\n",
       "      <td>Hayır</td>\n",
       "      <td>Hayır</td>\n",
       "      <td>Evet</td>\n",
       "      <td>Evet</td>\n",
       "      <td>Hayır</td>\n",
       "      <td>Hayır</td>\n",
       "      <td>IYI PARTI</td>\n",
       "    </tr>\n",
       "  </tbody>\n",
       "</table>\n",
       "</div>"
      ],
      "text/plain": [
       "   Cinsiyet  Yas    Bolge     Egitim  soru1 soru2  soru3  soru4  soru5  soru6  \\\n",
       "0         0    2  Marmara     Lisans  Hayır  Evet   Evet  Hayır  Hayır  Hayır   \n",
       "1         0    2  Marmara     Lisans   Evet  Evet  Hayır   Evet  Hayır   Evet   \n",
       "2         1    2  Marmara     Lisans  Hayır  Evet  Hayır  Hayır  Hayır  Hayır   \n",
       "3         0    1  Marmara       Lise   Evet  Evet  Hayır   Evet  Hayır   Evet   \n",
       "4         0    2  Marmara  Ön Lisans  Hayır  Evet   Evet   Evet  Hayır  Hayır   \n",
       "\n",
       "   soru7  soru8  soru9 soru10      parti  \n",
       "0   Evet  Hayır   Evet   Evet  IYI PARTI  \n",
       "1  Hayır   Evet  Hayır  Hayır        AKP  \n",
       "2   Evet  Hayır   Evet   Evet      DIĞER  \n",
       "3   Evet   Evet   Evet   Evet  IYI PARTI  \n",
       "4   Evet   Evet  Hayır  Hayır  IYI PARTI  "
      ]
     },
     "execution_count": 13,
     "metadata": {},
     "output_type": "execute_result"
    }
   ],
   "source": [
    "sex_mapping = {\"Erkek\": 0, \"Kadın\": 1}\n",
    "data['Cinsiyet'] = data['Cinsiyet'].map(sex_mapping)\n",
    "\n",
    "data.head()"
   ]
  },
  {
   "cell_type": "code",
   "execution_count": 14,
   "metadata": {
    "_cell_guid": "c27e70ff-53db-4961-b6d6-67ef8c7dd6b9",
    "_uuid": "e6a237aa8be283224627f895d21a6f65f1c8e75d"
   },
   "outputs": [
    {
     "data": {
      "text/html": [
       "<div>\n",
       "<style scoped>\n",
       "    .dataframe tbody tr th:only-of-type {\n",
       "        vertical-align: middle;\n",
       "    }\n",
       "\n",
       "    .dataframe tbody tr th {\n",
       "        vertical-align: top;\n",
       "    }\n",
       "\n",
       "    .dataframe thead th {\n",
       "        text-align: right;\n",
       "    }\n",
       "</style>\n",
       "<table border=\"1\" class=\"dataframe\">\n",
       "  <thead>\n",
       "    <tr style=\"text-align: right;\">\n",
       "      <th></th>\n",
       "      <th>Cinsiyet</th>\n",
       "      <th>Yas</th>\n",
       "      <th>Bolge</th>\n",
       "      <th>Egitim</th>\n",
       "      <th>soru1</th>\n",
       "      <th>soru2</th>\n",
       "      <th>soru3</th>\n",
       "      <th>soru4</th>\n",
       "      <th>soru5</th>\n",
       "      <th>soru6</th>\n",
       "      <th>soru7</th>\n",
       "      <th>soru8</th>\n",
       "      <th>soru9</th>\n",
       "      <th>soru10</th>\n",
       "      <th>parti</th>\n",
       "    </tr>\n",
       "  </thead>\n",
       "  <tbody>\n",
       "    <tr>\n",
       "      <th>0</th>\n",
       "      <td>0</td>\n",
       "      <td>2</td>\n",
       "      <td>1</td>\n",
       "      <td>Lisans</td>\n",
       "      <td>Hayır</td>\n",
       "      <td>Evet</td>\n",
       "      <td>Evet</td>\n",
       "      <td>Hayır</td>\n",
       "      <td>Hayır</td>\n",
       "      <td>Hayır</td>\n",
       "      <td>Evet</td>\n",
       "      <td>Hayır</td>\n",
       "      <td>Evet</td>\n",
       "      <td>Evet</td>\n",
       "      <td>IYI PARTI</td>\n",
       "    </tr>\n",
       "    <tr>\n",
       "      <th>1</th>\n",
       "      <td>0</td>\n",
       "      <td>2</td>\n",
       "      <td>1</td>\n",
       "      <td>Lisans</td>\n",
       "      <td>Evet</td>\n",
       "      <td>Evet</td>\n",
       "      <td>Hayır</td>\n",
       "      <td>Evet</td>\n",
       "      <td>Hayır</td>\n",
       "      <td>Evet</td>\n",
       "      <td>Hayır</td>\n",
       "      <td>Evet</td>\n",
       "      <td>Hayır</td>\n",
       "      <td>Hayır</td>\n",
       "      <td>AKP</td>\n",
       "    </tr>\n",
       "    <tr>\n",
       "      <th>2</th>\n",
       "      <td>1</td>\n",
       "      <td>2</td>\n",
       "      <td>1</td>\n",
       "      <td>Lisans</td>\n",
       "      <td>Hayır</td>\n",
       "      <td>Evet</td>\n",
       "      <td>Hayır</td>\n",
       "      <td>Hayır</td>\n",
       "      <td>Hayır</td>\n",
       "      <td>Hayır</td>\n",
       "      <td>Evet</td>\n",
       "      <td>Hayır</td>\n",
       "      <td>Evet</td>\n",
       "      <td>Evet</td>\n",
       "      <td>DIĞER</td>\n",
       "    </tr>\n",
       "    <tr>\n",
       "      <th>3</th>\n",
       "      <td>0</td>\n",
       "      <td>1</td>\n",
       "      <td>1</td>\n",
       "      <td>Lise</td>\n",
       "      <td>Evet</td>\n",
       "      <td>Evet</td>\n",
       "      <td>Hayır</td>\n",
       "      <td>Evet</td>\n",
       "      <td>Hayır</td>\n",
       "      <td>Evet</td>\n",
       "      <td>Evet</td>\n",
       "      <td>Evet</td>\n",
       "      <td>Evet</td>\n",
       "      <td>Evet</td>\n",
       "      <td>IYI PARTI</td>\n",
       "    </tr>\n",
       "    <tr>\n",
       "      <th>4</th>\n",
       "      <td>0</td>\n",
       "      <td>2</td>\n",
       "      <td>1</td>\n",
       "      <td>Ön Lisans</td>\n",
       "      <td>Hayır</td>\n",
       "      <td>Evet</td>\n",
       "      <td>Evet</td>\n",
       "      <td>Evet</td>\n",
       "      <td>Hayır</td>\n",
       "      <td>Hayır</td>\n",
       "      <td>Evet</td>\n",
       "      <td>Evet</td>\n",
       "      <td>Hayır</td>\n",
       "      <td>Hayır</td>\n",
       "      <td>IYI PARTI</td>\n",
       "    </tr>\n",
       "  </tbody>\n",
       "</table>\n",
       "</div>"
      ],
      "text/plain": [
       "   Cinsiyet  Yas  Bolge     Egitim  soru1 soru2  soru3  soru4  soru5  soru6  \\\n",
       "0         0    2      1     Lisans  Hayır  Evet   Evet  Hayır  Hayır  Hayır   \n",
       "1         0    2      1     Lisans   Evet  Evet  Hayır   Evet  Hayır   Evet   \n",
       "2         1    2      1     Lisans  Hayır  Evet  Hayır  Hayır  Hayır  Hayır   \n",
       "3         0    1      1       Lise   Evet  Evet  Hayır   Evet  Hayır   Evet   \n",
       "4         0    2      1  Ön Lisans  Hayır  Evet   Evet   Evet  Hayır  Hayır   \n",
       "\n",
       "   soru7  soru8  soru9 soru10      parti  \n",
       "0   Evet  Hayır   Evet   Evet  IYI PARTI  \n",
       "1  Hayır   Evet  Hayır  Hayır        AKP  \n",
       "2   Evet  Hayır   Evet   Evet      DIĞER  \n",
       "3   Evet   Evet   Evet   Evet  IYI PARTI  \n",
       "4   Evet   Evet  Hayır  Hayır  IYI PARTI  "
      ]
     },
     "execution_count": 14,
     "metadata": {},
     "output_type": "execute_result"
    }
   ],
   "source": [
    "combine = [data]\n",
    "city_mapping = {\"Marmara\": 1, \"Ege\": 2, \"Karadeniz\": 3, \"Akdeniz\": 4, \"İç Anadolu\": 5, \"Doğu Anadolu\": 6, \"Güneydoğu\": 7}\n",
    "for dataset in combine:\n",
    "    dataset['Bolge'] = dataset['Bolge'].map(city_mapping)\n",
    "    dataset['Bolge'] = dataset['Bolge'].fillna(0)\n",
    "\n",
    "data.head()"
   ]
  },
  {
   "cell_type": "code",
   "execution_count": 15,
   "metadata": {
    "_cell_guid": "a99a33f6-3983-4db7-a075-edad62fa1fa1",
    "_uuid": "a8afc6c7365fc3da434677488d79679ac50da33a"
   },
   "outputs": [
    {
     "data": {
      "text/html": [
       "<div>\n",
       "<style scoped>\n",
       "    .dataframe tbody tr th:only-of-type {\n",
       "        vertical-align: middle;\n",
       "    }\n",
       "\n",
       "    .dataframe tbody tr th {\n",
       "        vertical-align: top;\n",
       "    }\n",
       "\n",
       "    .dataframe thead th {\n",
       "        text-align: right;\n",
       "    }\n",
       "</style>\n",
       "<table border=\"1\" class=\"dataframe\">\n",
       "  <thead>\n",
       "    <tr style=\"text-align: right;\">\n",
       "      <th></th>\n",
       "      <th>Cinsiyet</th>\n",
       "      <th>Yas</th>\n",
       "      <th>Bolge</th>\n",
       "      <th>Egitim</th>\n",
       "      <th>soru1</th>\n",
       "      <th>soru2</th>\n",
       "      <th>soru3</th>\n",
       "      <th>soru4</th>\n",
       "      <th>soru5</th>\n",
       "      <th>soru6</th>\n",
       "      <th>soru7</th>\n",
       "      <th>soru8</th>\n",
       "      <th>soru9</th>\n",
       "      <th>soru10</th>\n",
       "      <th>parti</th>\n",
       "    </tr>\n",
       "  </thead>\n",
       "  <tbody>\n",
       "    <tr>\n",
       "      <th>0</th>\n",
       "      <td>0</td>\n",
       "      <td>2</td>\n",
       "      <td>1</td>\n",
       "      <td>5</td>\n",
       "      <td>Hayır</td>\n",
       "      <td>Evet</td>\n",
       "      <td>Evet</td>\n",
       "      <td>Hayır</td>\n",
       "      <td>Hayır</td>\n",
       "      <td>Hayır</td>\n",
       "      <td>Evet</td>\n",
       "      <td>Hayır</td>\n",
       "      <td>Evet</td>\n",
       "      <td>Evet</td>\n",
       "      <td>IYI PARTI</td>\n",
       "    </tr>\n",
       "    <tr>\n",
       "      <th>1</th>\n",
       "      <td>0</td>\n",
       "      <td>2</td>\n",
       "      <td>1</td>\n",
       "      <td>5</td>\n",
       "      <td>Evet</td>\n",
       "      <td>Evet</td>\n",
       "      <td>Hayır</td>\n",
       "      <td>Evet</td>\n",
       "      <td>Hayır</td>\n",
       "      <td>Evet</td>\n",
       "      <td>Hayır</td>\n",
       "      <td>Evet</td>\n",
       "      <td>Hayır</td>\n",
       "      <td>Hayır</td>\n",
       "      <td>AKP</td>\n",
       "    </tr>\n",
       "    <tr>\n",
       "      <th>2</th>\n",
       "      <td>1</td>\n",
       "      <td>2</td>\n",
       "      <td>1</td>\n",
       "      <td>5</td>\n",
       "      <td>Hayır</td>\n",
       "      <td>Evet</td>\n",
       "      <td>Hayır</td>\n",
       "      <td>Hayır</td>\n",
       "      <td>Hayır</td>\n",
       "      <td>Hayır</td>\n",
       "      <td>Evet</td>\n",
       "      <td>Hayır</td>\n",
       "      <td>Evet</td>\n",
       "      <td>Evet</td>\n",
       "      <td>DIĞER</td>\n",
       "    </tr>\n",
       "    <tr>\n",
       "      <th>3</th>\n",
       "      <td>0</td>\n",
       "      <td>1</td>\n",
       "      <td>1</td>\n",
       "      <td>3</td>\n",
       "      <td>Evet</td>\n",
       "      <td>Evet</td>\n",
       "      <td>Hayır</td>\n",
       "      <td>Evet</td>\n",
       "      <td>Hayır</td>\n",
       "      <td>Evet</td>\n",
       "      <td>Evet</td>\n",
       "      <td>Evet</td>\n",
       "      <td>Evet</td>\n",
       "      <td>Evet</td>\n",
       "      <td>IYI PARTI</td>\n",
       "    </tr>\n",
       "    <tr>\n",
       "      <th>4</th>\n",
       "      <td>0</td>\n",
       "      <td>2</td>\n",
       "      <td>1</td>\n",
       "      <td>4</td>\n",
       "      <td>Hayır</td>\n",
       "      <td>Evet</td>\n",
       "      <td>Evet</td>\n",
       "      <td>Evet</td>\n",
       "      <td>Hayır</td>\n",
       "      <td>Hayır</td>\n",
       "      <td>Evet</td>\n",
       "      <td>Evet</td>\n",
       "      <td>Hayır</td>\n",
       "      <td>Hayır</td>\n",
       "      <td>IYI PARTI</td>\n",
       "    </tr>\n",
       "  </tbody>\n",
       "</table>\n",
       "</div>"
      ],
      "text/plain": [
       "   Cinsiyet  Yas  Bolge  Egitim  soru1 soru2  soru3  soru4  soru5  soru6  \\\n",
       "0         0    2      1       5  Hayır  Evet   Evet  Hayır  Hayır  Hayır   \n",
       "1         0    2      1       5   Evet  Evet  Hayır   Evet  Hayır   Evet   \n",
       "2         1    2      1       5  Hayır  Evet  Hayır  Hayır  Hayır  Hayır   \n",
       "3         0    1      1       3   Evet  Evet  Hayır   Evet  Hayır   Evet   \n",
       "4         0    2      1       4  Hayır  Evet   Evet   Evet  Hayır  Hayır   \n",
       "\n",
       "   soru7  soru8  soru9 soru10      parti  \n",
       "0   Evet  Hayır   Evet   Evet  IYI PARTI  \n",
       "1  Hayır   Evet  Hayır  Hayır        AKP  \n",
       "2   Evet  Hayır   Evet   Evet      DIĞER  \n",
       "3   Evet   Evet   Evet   Evet  IYI PARTI  \n",
       "4   Evet   Evet  Hayır  Hayır  IYI PARTI  "
      ]
     },
     "execution_count": 15,
     "metadata": {},
     "output_type": "execute_result"
    }
   ],
   "source": [
    "combine = [data]\n",
    "education_mapping = {\"İlkokul\": 1, \"Ortaokul\": 2, \"Lise\": 3, \"Ön Lisans\": 4, \"Lisans\": 5, \"Lisans Üstü\": 6}\n",
    "for dataset in combine:\n",
    "    dataset['Egitim'] = dataset['Egitim'].map(education_mapping)\n",
    "    dataset['Egitim'] = dataset['Egitim'].fillna(0)\n",
    "\n",
    "data.head()"
   ]
  },
  {
   "cell_type": "code",
   "execution_count": 16,
   "metadata": {
    "_cell_guid": "280a6e9b-1f6a-4602-9cad-b2e85c3e25a4",
    "_uuid": "80d19dc2b1e04f252ae414fcf76d6a0ea99cc54a"
   },
   "outputs": [
    {
     "data": {
      "text/html": [
       "<div>\n",
       "<style scoped>\n",
       "    .dataframe tbody tr th:only-of-type {\n",
       "        vertical-align: middle;\n",
       "    }\n",
       "\n",
       "    .dataframe tbody tr th {\n",
       "        vertical-align: top;\n",
       "    }\n",
       "\n",
       "    .dataframe thead th {\n",
       "        text-align: right;\n",
       "    }\n",
       "</style>\n",
       "<table border=\"1\" class=\"dataframe\">\n",
       "  <thead>\n",
       "    <tr style=\"text-align: right;\">\n",
       "      <th></th>\n",
       "      <th>Cinsiyet</th>\n",
       "      <th>Yas</th>\n",
       "      <th>Bolge</th>\n",
       "      <th>Egitim</th>\n",
       "      <th>soru1</th>\n",
       "      <th>soru2</th>\n",
       "      <th>soru3</th>\n",
       "      <th>soru4</th>\n",
       "      <th>soru5</th>\n",
       "      <th>soru6</th>\n",
       "      <th>soru7</th>\n",
       "      <th>soru8</th>\n",
       "      <th>soru9</th>\n",
       "      <th>soru10</th>\n",
       "      <th>parti</th>\n",
       "    </tr>\n",
       "  </thead>\n",
       "  <tbody>\n",
       "    <tr>\n",
       "      <th>0</th>\n",
       "      <td>0</td>\n",
       "      <td>2</td>\n",
       "      <td>1</td>\n",
       "      <td>5</td>\n",
       "      <td>0</td>\n",
       "      <td>1</td>\n",
       "      <td>1</td>\n",
       "      <td>0</td>\n",
       "      <td>0</td>\n",
       "      <td>0</td>\n",
       "      <td>1</td>\n",
       "      <td>0</td>\n",
       "      <td>1</td>\n",
       "      <td>1</td>\n",
       "      <td>IYI PARTI</td>\n",
       "    </tr>\n",
       "    <tr>\n",
       "      <th>1</th>\n",
       "      <td>0</td>\n",
       "      <td>2</td>\n",
       "      <td>1</td>\n",
       "      <td>5</td>\n",
       "      <td>1</td>\n",
       "      <td>1</td>\n",
       "      <td>0</td>\n",
       "      <td>1</td>\n",
       "      <td>0</td>\n",
       "      <td>1</td>\n",
       "      <td>0</td>\n",
       "      <td>1</td>\n",
       "      <td>0</td>\n",
       "      <td>0</td>\n",
       "      <td>AKP</td>\n",
       "    </tr>\n",
       "    <tr>\n",
       "      <th>2</th>\n",
       "      <td>1</td>\n",
       "      <td>2</td>\n",
       "      <td>1</td>\n",
       "      <td>5</td>\n",
       "      <td>0</td>\n",
       "      <td>1</td>\n",
       "      <td>0</td>\n",
       "      <td>0</td>\n",
       "      <td>0</td>\n",
       "      <td>0</td>\n",
       "      <td>1</td>\n",
       "      <td>0</td>\n",
       "      <td>1</td>\n",
       "      <td>1</td>\n",
       "      <td>DIĞER</td>\n",
       "    </tr>\n",
       "    <tr>\n",
       "      <th>3</th>\n",
       "      <td>0</td>\n",
       "      <td>1</td>\n",
       "      <td>1</td>\n",
       "      <td>3</td>\n",
       "      <td>1</td>\n",
       "      <td>1</td>\n",
       "      <td>0</td>\n",
       "      <td>1</td>\n",
       "      <td>0</td>\n",
       "      <td>1</td>\n",
       "      <td>1</td>\n",
       "      <td>1</td>\n",
       "      <td>1</td>\n",
       "      <td>1</td>\n",
       "      <td>IYI PARTI</td>\n",
       "    </tr>\n",
       "    <tr>\n",
       "      <th>4</th>\n",
       "      <td>0</td>\n",
       "      <td>2</td>\n",
       "      <td>1</td>\n",
       "      <td>4</td>\n",
       "      <td>0</td>\n",
       "      <td>1</td>\n",
       "      <td>1</td>\n",
       "      <td>1</td>\n",
       "      <td>0</td>\n",
       "      <td>0</td>\n",
       "      <td>1</td>\n",
       "      <td>1</td>\n",
       "      <td>0</td>\n",
       "      <td>0</td>\n",
       "      <td>IYI PARTI</td>\n",
       "    </tr>\n",
       "  </tbody>\n",
       "</table>\n",
       "</div>"
      ],
      "text/plain": [
       "   Cinsiyet  Yas  Bolge  Egitim  soru1  soru2  soru3  soru4  soru5  soru6  \\\n",
       "0         0    2      1       5      0      1      1      0      0      0   \n",
       "1         0    2      1       5      1      1      0      1      0      1   \n",
       "2         1    2      1       5      0      1      0      0      0      0   \n",
       "3         0    1      1       3      1      1      0      1      0      1   \n",
       "4         0    2      1       4      0      1      1      1      0      0   \n",
       "\n",
       "   soru7  soru8  soru9  soru10      parti  \n",
       "0      1      0      1       1  IYI PARTI  \n",
       "1      0      1      0       0        AKP  \n",
       "2      1      0      1       1      DIĞER  \n",
       "3      1      1      1       1  IYI PARTI  \n",
       "4      1      1      0       0  IYI PARTI  "
      ]
     },
     "execution_count": 16,
     "metadata": {},
     "output_type": "execute_result"
    }
   ],
   "source": [
    "question_mapping = {\"Evet\": 1, \"Hayır\": 0}\n",
    "data['soru1'] = data['soru1'].map(question_mapping)\n",
    "data['soru2'] = data['soru2'].map(question_mapping)\n",
    "data['soru3'] = data['soru3'].map(question_mapping)\n",
    "data['soru4'] = data['soru4'].map(question_mapping)\n",
    "data['soru5'] = data['soru5'].map(question_mapping)\n",
    "data['soru6'] = data['soru6'].map(question_mapping)\n",
    "data['soru7'] = data['soru7'].map(question_mapping)\n",
    "data['soru8'] = data['soru8'].map(question_mapping)\n",
    "data['soru9'] = data['soru9'].map(question_mapping)\n",
    "data['soru10'] = data['soru10'].map(question_mapping)\n",
    "\n",
    "data.head()"
   ]
  },
  {
   "cell_type": "code",
   "execution_count": 17,
   "metadata": {
    "_cell_guid": "646712e7-7bd2-411e-8ec2-1a1df85261ab",
    "_uuid": "0493c69e26f2ffcb099cb22deb0474e9c9d9cadb"
   },
   "outputs": [
    {
     "data": {
      "text/html": [
       "<div>\n",
       "<style scoped>\n",
       "    .dataframe tbody tr th:only-of-type {\n",
       "        vertical-align: middle;\n",
       "    }\n",
       "\n",
       "    .dataframe tbody tr th {\n",
       "        vertical-align: top;\n",
       "    }\n",
       "\n",
       "    .dataframe thead th {\n",
       "        text-align: right;\n",
       "    }\n",
       "</style>\n",
       "<table border=\"1\" class=\"dataframe\">\n",
       "  <thead>\n",
       "    <tr style=\"text-align: right;\">\n",
       "      <th></th>\n",
       "      <th>Cinsiyet</th>\n",
       "      <th>Yas</th>\n",
       "      <th>Bolge</th>\n",
       "      <th>Egitim</th>\n",
       "      <th>soru1</th>\n",
       "      <th>soru2</th>\n",
       "      <th>soru3</th>\n",
       "      <th>soru4</th>\n",
       "      <th>soru5</th>\n",
       "      <th>soru6</th>\n",
       "      <th>soru7</th>\n",
       "      <th>soru8</th>\n",
       "      <th>soru9</th>\n",
       "      <th>soru10</th>\n",
       "      <th>parti</th>\n",
       "    </tr>\n",
       "  </thead>\n",
       "  <tbody>\n",
       "    <tr>\n",
       "      <th>0</th>\n",
       "      <td>0</td>\n",
       "      <td>2</td>\n",
       "      <td>1</td>\n",
       "      <td>5</td>\n",
       "      <td>0</td>\n",
       "      <td>1</td>\n",
       "      <td>1</td>\n",
       "      <td>0</td>\n",
       "      <td>0</td>\n",
       "      <td>0</td>\n",
       "      <td>1</td>\n",
       "      <td>0</td>\n",
       "      <td>1</td>\n",
       "      <td>1</td>\n",
       "      <td>3</td>\n",
       "    </tr>\n",
       "    <tr>\n",
       "      <th>1</th>\n",
       "      <td>0</td>\n",
       "      <td>2</td>\n",
       "      <td>1</td>\n",
       "      <td>5</td>\n",
       "      <td>1</td>\n",
       "      <td>1</td>\n",
       "      <td>0</td>\n",
       "      <td>1</td>\n",
       "      <td>0</td>\n",
       "      <td>1</td>\n",
       "      <td>0</td>\n",
       "      <td>1</td>\n",
       "      <td>0</td>\n",
       "      <td>0</td>\n",
       "      <td>1</td>\n",
       "    </tr>\n",
       "    <tr>\n",
       "      <th>2</th>\n",
       "      <td>1</td>\n",
       "      <td>2</td>\n",
       "      <td>1</td>\n",
       "      <td>5</td>\n",
       "      <td>0</td>\n",
       "      <td>1</td>\n",
       "      <td>0</td>\n",
       "      <td>0</td>\n",
       "      <td>0</td>\n",
       "      <td>0</td>\n",
       "      <td>1</td>\n",
       "      <td>0</td>\n",
       "      <td>1</td>\n",
       "      <td>1</td>\n",
       "      <td>6</td>\n",
       "    </tr>\n",
       "    <tr>\n",
       "      <th>3</th>\n",
       "      <td>0</td>\n",
       "      <td>1</td>\n",
       "      <td>1</td>\n",
       "      <td>3</td>\n",
       "      <td>1</td>\n",
       "      <td>1</td>\n",
       "      <td>0</td>\n",
       "      <td>1</td>\n",
       "      <td>0</td>\n",
       "      <td>1</td>\n",
       "      <td>1</td>\n",
       "      <td>1</td>\n",
       "      <td>1</td>\n",
       "      <td>1</td>\n",
       "      <td>3</td>\n",
       "    </tr>\n",
       "    <tr>\n",
       "      <th>4</th>\n",
       "      <td>0</td>\n",
       "      <td>2</td>\n",
       "      <td>1</td>\n",
       "      <td>4</td>\n",
       "      <td>0</td>\n",
       "      <td>1</td>\n",
       "      <td>1</td>\n",
       "      <td>1</td>\n",
       "      <td>0</td>\n",
       "      <td>0</td>\n",
       "      <td>1</td>\n",
       "      <td>1</td>\n",
       "      <td>0</td>\n",
       "      <td>0</td>\n",
       "      <td>3</td>\n",
       "    </tr>\n",
       "  </tbody>\n",
       "</table>\n",
       "</div>"
      ],
      "text/plain": [
       "   Cinsiyet  Yas  Bolge  Egitim  soru1  soru2  soru3  soru4  soru5  soru6  \\\n",
       "0         0    2      1       5      0      1      1      0      0      0   \n",
       "1         0    2      1       5      1      1      0      1      0      1   \n",
       "2         1    2      1       5      0      1      0      0      0      0   \n",
       "3         0    1      1       3      1      1      0      1      0      1   \n",
       "4         0    2      1       4      0      1      1      1      0      0   \n",
       "\n",
       "   soru7  soru8  soru9  soru10  parti  \n",
       "0      1      0      1       1      3  \n",
       "1      0      1      0       0      1  \n",
       "2      1      0      1       1      6  \n",
       "3      1      1      1       1      3  \n",
       "4      1      1      0       0      3  "
      ]
     },
     "execution_count": 17,
     "metadata": {},
     "output_type": "execute_result"
    }
   ],
   "source": [
    "combine = [data]\n",
    "opinion_mapping = {\"AKP\": 1, \"CHP\": 2, \"IYI PARTI\": 3, \"MHP\": 4, \"HDP\": 5, \"DIĞER\": 6}\n",
    "for dataset in combine:\n",
    "    dataset['parti'] = dataset['parti'].map(opinion_mapping)\n",
    "    dataset['parti'] = dataset['parti'].fillna(0)\n",
    "\n",
    "data.head()"
   ]
  },
  {
   "cell_type": "markdown",
   "metadata": {
    "_cell_guid": "605fe8df-fd38-4a1a-9e74-11890e3f6027",
    "_uuid": "b2c7a972d7766462984bd0b078a74e1b120221b2"
   },
   "source": [
    "** Now We Have Clean Data We Need To Look Correlation For Get Best Model **"
   ]
  },
  {
   "cell_type": "code",
   "execution_count": 18,
   "metadata": {
    "_cell_guid": "3c7c0e31-5893-49a9-8459-e4b24c1e8ef3",
    "_uuid": "86e0edf725e40425c172eee67a150cb5e0bf0f0b"
   },
   "outputs": [
    {
     "data": {
      "image/png": "[encoded data removed]",
      "text/plain": [
       "<matplotlib.figure.Figure at 0x2595a4924e0>"
      ]
     },
     "metadata": {},
     "output_type": "display_data"
    }
   ],
   "source": [
    "k = 10 #number of variables for heatmap\n",
    "corrmat = data.corr()\n",
    "cols = corrmat.nlargest(k, 'parti')['parti'].index\n",
    "f, ax = plt.subplots(figsize=(15, 10))\n",
    "cm = np.corrcoef(data[cols].values.T)\n",
    "sns.set(font_scale=1.25)\n",
    "hm = sns.heatmap(cm, cbar=True, annot=True, square=True, fmt='.2f', \n",
    "                 annot_kws={'size': 10}, yticklabels=cols.values, xticklabels=cols.values)\n",
    "plt.show()"
   ]
  },
  {
   "cell_type": "markdown",
   "metadata": {
    "_cell_guid": "f8f4568c-9983-4c07-a3c3-8c48de49ffdb",
    "_uuid": "57b5811d5fcfce8d428276cb9c471389d3edba57"
   },
   "source": [
    "** We dont have great corelations but I wont drop no more feature's I think the machine will make more use of the questions when making the forecast. **"
   ]
  },
  {
   "cell_type": "markdown",
   "metadata": {
    "_cell_guid": "bce0ad60-17af-4a67-91ae-506c3d23b806",
    "_uuid": "c96b85a0d4455e24d1d5571952727eb7cb26ac4b"
   },
   "source": [
    "## 5 - Choosing The Best Model"
   ]
  },
  {
   "cell_type": "markdown",
   "metadata": {
    "_cell_guid": "5af419ad-9a18-4972-8e42-8d7bb133c188",
    "_uuid": "d9d3d1a536670d1d21cbcad5a45e8edd305cb0f7"
   },
   "source": [
    " My Predict Feature is** \"Parti\"** "
   ]
  },
  {
   "cell_type": "code",
   "execution_count": 19,
   "metadata": {
    "_cell_guid": "d48e26cf-8e1d-45f4-b720-570a2b1e16c1",
    "_uuid": "8b08dab94de9bf81dfe14a16dd74e153d2996e22"
   },
   "outputs": [],
   "source": [
    "from sklearn.model_selection import train_test_split\n",
    "\n",
    "predictors = data.drop(['parti'], axis=1)\n",
    "target = data[\"parti\"]\n",
    "x_train, x_val, y_train, y_val = train_test_split(predictors, target, test_size = 0.04, random_state = 0)"
   ]
  },
  {
   "cell_type": "markdown",
   "metadata": {
    "_cell_guid": "5a85f74e-f69d-4ff9-948a-2d5874e85c91",
    "_uuid": "071ba87955bea2a55df0631ba02eb4b05936da59"
   },
   "source": [
    "We use we will use ;\n",
    "-  Random Forest\n",
    "-  Decision Tree\n",
    "-  KNeighbors \n",
    "- SVC \n",
    "- Logistic Regression\t\n",
    "\n",
    "which are known models. The reason for selecting these models is that the data is in the form of 1-0 Yes-NO "
   ]
  },
  {
   "cell_type": "code",
   "execution_count": 20,
   "metadata": {
    "_cell_guid": "b2723366-4552-4ecb-b73f-3d5ac3530e3b",
    "_uuid": "1b484332a9f4c22d3b2d393cbe04e8d51d2d359b"
   },
   "outputs": [
    {
     "name": "stdout",
     "output_type": "stream",
     "text": [
      "71.43\n"
     ]
    }
   ],
   "source": [
    "from sklearn.metrics import accuracy_score\n",
    "from sklearn.tree import DecisionTreeClassifier\n",
    "\n",
    "decisiontree = DecisionTreeClassifier()\n",
    "decisiontree.fit(x_train, y_train)\n",
    "y_pred = decisiontree.predict(x_val)\n",
    "acc_decisiontree = round(accuracy_score(y_pred, y_val) * 100, 2)\n",
    "print(acc_decisiontree)"
   ]
  },
  {
   "cell_type": "code",
   "execution_count": 21,
   "metadata": {
    "_cell_guid": "c4f51186-b3b6-4551-a7db-68ae58fcff45",
    "_uuid": "e9075c9a03edc0934eb51a9db5fd36b03a1434a3"
   },
   "outputs": [
    {
     "name": "stdout",
     "output_type": "stream",
     "text": [
      "42.86\n"
     ]
    }
   ],
   "source": [
    "from sklearn.ensemble import RandomForestClassifier\n",
    "\n",
    "randomforest = RandomForestClassifier()\n",
    "randomforest.fit(x_train, y_train)\n",
    "y_pred = randomforest.predict(x_val)\n",
    "acc_randomforest = round(accuracy_score(y_pred, y_val) * 100, 2)\n",
    "print(acc_randomforest)"
   ]
  },
  {
   "cell_type": "code",
   "execution_count": 22,
   "metadata": {
    "_cell_guid": "ec38d5dd-0a26-4aad-baa2-19ce96de520f",
    "_uuid": "27680cbdb73b01764ced5ca89ddd8cd639df97cc"
   },
   "outputs": [
    {
     "name": "stdout",
     "output_type": "stream",
     "text": [
      "71.43\n"
     ]
    }
   ],
   "source": [
    "from sklearn.svm import SVC\n",
    "\n",
    "svm = SVC()\n",
    "svm.fit(x_train, y_train)\n",
    "y_pred = svm.predict(x_val)\n",
    "acc_svm = round(accuracy_score(y_pred, y_val) * 100, 2)\n",
    "print(acc_svm)"
   ]
  },
  {
   "cell_type": "code",
   "execution_count": 23,
   "metadata": {
    "_cell_guid": "c2ce74dc-d8f2-4515-873b-98a5fc07a97e",
    "_uuid": "06fd80fc692b1693b49c6d12a223701d0c5725e2"
   },
   "outputs": [
    {
     "name": "stdout",
     "output_type": "stream",
     "text": [
      "57.14\n"
     ]
    }
   ],
   "source": [
    "from sklearn.neighbors import KNeighborsClassifier\n",
    "\n",
    "knn = KNeighborsClassifier()\n",
    "knn.fit(x_train, y_train)\n",
    "y_pred = knn.predict(x_val)\n",
    "acc_knn = round(accuracy_score(y_pred, y_val) * 100, 2)\n",
    "print(acc_knn)"
   ]
  },
  {
   "cell_type": "code",
   "execution_count": 24,
   "metadata": {
    "_cell_guid": "4c0243bd-04e0-4d27-bc06-0f6720a36aed",
    "_uuid": "4d1b986c5d47d2b25a5b9d9a9b5796c425201e0b"
   },
   "outputs": [
    {
     "name": "stdout",
     "output_type": "stream",
     "text": [
      "42.86\n"
     ]
    }
   ],
   "source": [
    "from sklearn.linear_model import LogisticRegression\n",
    "\n",
    "logreg = LogisticRegression()\n",
    "logreg.fit(x_train, y_train)\n",
    "y_pred = logreg.predict(x_val)\n",
    "acc_logreg = round(accuracy_score(y_pred, y_val) * 100, 2)\n",
    "print(acc_logreg)"
   ]
  },
  {
   "cell_type": "code",
   "execution_count": 25,
   "metadata": {
    "_cell_guid": "2e701abf-d483-4e3c-9a8c-6a5d4cc4bb3e",
    "_uuid": "896c66ab0a2d437443ddb7206006c0216de18288"
   },
   "outputs": [
    {
     "data": {
      "text/html": [
       "<div>\n",
       "<style scoped>\n",
       "    .dataframe tbody tr th:only-of-type {\n",
       "        vertical-align: middle;\n",
       "    }\n",
       "\n",
       "    .dataframe tbody tr th {\n",
       "        vertical-align: top;\n",
       "    }\n",
       "\n",
       "    .dataframe thead th {\n",
       "        text-align: right;\n",
       "    }\n",
       "</style>\n",
       "<table border=\"1\" class=\"dataframe\">\n",
       "  <thead>\n",
       "    <tr style=\"text-align: right;\">\n",
       "      <th></th>\n",
       "      <th>Model</th>\n",
       "      <th>Score</th>\n",
       "    </tr>\n",
       "  </thead>\n",
       "  <tbody>\n",
       "    <tr>\n",
       "      <th>0</th>\n",
       "      <td>SVC</td>\n",
       "      <td>71.43</td>\n",
       "    </tr>\n",
       "    <tr>\n",
       "      <th>3</th>\n",
       "      <td>Decision Tree</td>\n",
       "      <td>71.43</td>\n",
       "    </tr>\n",
       "    <tr>\n",
       "      <th>2</th>\n",
       "      <td>KNeighbors</td>\n",
       "      <td>57.14</td>\n",
       "    </tr>\n",
       "    <tr>\n",
       "      <th>1</th>\n",
       "      <td>Random Forest</td>\n",
       "      <td>42.86</td>\n",
       "    </tr>\n",
       "    <tr>\n",
       "      <th>4</th>\n",
       "      <td>Logistic Regression</td>\n",
       "      <td>42.86</td>\n",
       "    </tr>\n",
       "  </tbody>\n",
       "</table>\n",
       "</div>"
      ],
      "text/plain": [
       "                 Model  Score\n",
       "0                  SVC  71.43\n",
       "3        Decision Tree  71.43\n",
       "2           KNeighbors  57.14\n",
       "1        Random Forest  42.86\n",
       "4  Logistic Regression  42.86"
      ]
     },
     "execution_count": 25,
     "metadata": {},
     "output_type": "execute_result"
    }
   ],
   "source": [
    "models = pd.DataFrame({\n",
    "    'Model': ['SVC', \n",
    "              'Random Forest', 'KNeighbors', \n",
    "              'Decision Tree', 'Logistic Regression'],\n",
    "    'Score': [ acc_svm, \n",
    "              acc_randomforest, acc_knn, acc_decisiontree, acc_logreg\n",
    "             ]})\n",
    "models.sort_values(by='Score', ascending=False)"
   ]
  },
  {
   "cell_type": "markdown",
   "metadata": {
    "_cell_guid": "085149e8-ad90-49a6-aee2-866fd1a39989",
    "_uuid": "be6773c804a8ca3e48befc419c0df86a6c2f9624"
   },
   "source": [
    "## 6 - Source\n",
    "\n",
    "* [Uzay00's KaVe Repository](https://github.com/uzay00/KaVe)"
   ]
  }
 ],
 "metadata": {
  "kernelspec": {
   "display_name": "Python 3",
   "language": "python",
   "name": "python3"
  },
  "language_info": {
   "codemirror_mode": {
    "name": "ipython",
    "version": 3
   },
   "file_extension": ".py",
   "mimetype": "text/x-python",
   "name": "python",
   "nbconvert_exporter": "python",
   "pygments_lexer": "ipython3",
   "version": "3.6.4"
  }
 },
 "nbformat": 4,
 "nbformat_minor": 1
}
